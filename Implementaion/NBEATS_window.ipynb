{
  "cells": [
    {
      "cell_type": "markdown",
      "metadata": {
        "id": "view-in-github"
      },
      "source": [
        "<a href=\"https://colab.research.google.com/github/mrdbourke/tensorflow-deep-learning/blob/main/10_time_series_forecasting_in_tensorflow.ipynb\" target=\"_parent\"><img src=\"https://colab.research.google.com/assets/colab-badge.svg\" alt=\"Open In Colab\"/></a>"
      ]
    },
    {
      "cell_type": "markdown",
      "metadata": {
        "id": "vlVtweEv7nAx"
      },
      "source": [
        "\n",
        "\n",
        "## What is a NBEATS?\n",
        "\n",
        "Time series problems for predicting future value\n",
        "\n",
        "\n",
        "\n",
        "## What to do\n",
        "\n",
        "\n",
        "\n",
        "We've got a lot to go through. \n",
        "\n",
        "* Get time series data \n",
        "  * Load in time series data using pandas/Python's CSV module\n",
        "* Format data for a time series problem\n",
        "  * Creating training and test sets (75% traning data split and 25 %test )\n",
        "  * Visualizing time series data\n",
        "  * Turning time series data into a supervised learning problem (windowing)\n",
        "* Evaluating a time series forecasting model\n",
        "  * Replicating the N-BEATS algorithm \n",
        "* Results\n",
        "* calculating required parameters MAE, MSE, RMSE, MAPE evaluation numbers on the rest of the 25% of the data.\n",
        "\n",
        "\n",
        "### Run this is google colab to \n",
        "\n",
        "\n",
        "\n"
      ]
    },
    {
      "cell_type": "markdown",
      "metadata": {
        "id": "IzG2AaejyE5d"
      },
      "source": [
        "## CPU or GPU\n"
      ]
    },
    {
      "cell_type": "code",
      "execution_count": 65,
      "metadata": {
        "colab": {
          "base_uri": "https://localhost:8080/"
        },
        "id": "qjEuJ-j7yEdK",
        "outputId": "25cff88f-a54b-43e4-f865-16d07d8c5875"
      },
      "outputs": [
        {
          "name": "stdout",
          "output_type": "stream",
          "text": [
            "GPU 0: NVIDIA GeForce 940MX (UUID: GPU-c5f78b90-14b0-9b78-4a81-01df26d20bdf)\n"
          ]
        }
      ],
      "source": [
        "# Check for GPU\n",
        "!nvidia-smi -L"
      ]
    },
    {
      "cell_type": "markdown",
      "metadata": {
        "id": "81ywkh0q8Apj"
      },
      "source": [
        "## Upload data\n",
        "Resourse provided by the problem statement a git hub public repository created so that the data can be imported for the model to be trained upon \n",
        "\n",
        "## CSV data Columns\n",
        "index ,value , timestamp  \n",
        "\n"
      ]
    },
    {
      "cell_type": "code",
      "execution_count": 66,
      "metadata": {
        "colab": {
          "base_uri": "https://localhost:8080/"
        },
        "id": "mVEjK6ZHDqkQ",
        "outputId": "af740796-c3ab-4f64-9f5e-c749cecf043d"
      },
      "outputs": [
        {
          "name": "stdout",
          "output_type": "stream",
          "text": [
            "True\n"
          ]
        }
      ],
      "source": [
        "import os.path\n",
        "import numpy\n",
        "from os import path\n",
        "print(path.exists('content/0.csv'))\n",
        "if path.exists('content/0.csv')==False: # check weather the files are already downloaded or not initialised by checking 1 file\n",
        "  !wget https://raw.githubusercontent.com/tambeanuj123/tambeanuj123/main/dataset50/{-1..49}.csv\n",
        "  !wget https://raw.githubusercontent.com/tambeanuj123/tambeanuj123/main/dataset50/temp.csv\n"
      ]
    },
    {
      "cell_type": "markdown",
      "metadata": {
        "id": "gB1dgbSOo4ZI"
      },
      "source": [
        "###Adding code for keeping track of the file being retrieved and temporary csv saving the metrics data  \n",
        "\n",
        "initially file when retrieved from the server holds no value only columns for \n",
        "*   **index**\n",
        "*   **MAE**\n",
        "*   **MSE**\n",
        "*   **RMSE**\n",
        "*   **MAPE**\n",
        "*   **MASE**\n",
        "\n",
        "\n",
        "these are filled and cheked which files have been ran through model and moves to next file on the next run \n"
      ]
    },
    {
      "cell_type": "code",
      "execution_count": 67,
      "metadata": {
        "colab": {
          "base_uri": "https://localhost:8080/"
        },
        "id": "ZbLaWzrJpnQG",
        "outputId": "a2a59fd3-3413-4927-a243-6166d4e4d327"
      },
      "outputs": [
        {
          "name": "stdout",
          "output_type": "stream",
          "text": [
            "Number of lines present in temp csv file:- 4\n",
            "file number being retrieved in the model:- 4 .csv\n"
          ]
        }
      ],
      "source": [
        "import csv\n",
        "# read\n",
        "filecount=0       # change this value to the index of file you want to run first\n",
        "with open('content/temp.csv', 'r') as file:\n",
        "    reader = csv.reader(file)\n",
        "    for rows in reader:\n",
        "      filecount+= 1  #counts the current row in the csv\n",
        "print(\"Number of lines present in temp csv file:-\", filecount)    \n",
        "file_number=(filecount%50)      #tells the file number being retrieved\n",
        "print(\"file number being retrieved in the model:-\",file_number,\".csv\") "
      ]
    },
    {
      "cell_type": "markdown",
      "metadata": {
        "id": "FRKabu6qB41C"
      },
      "source": [
        "### Importing time series data with pandas\n"
      ]
    },
    {
      "cell_type": "code",
      "execution_count": 68,
      "metadata": {
        "colab": {
          "base_uri": "https://localhost:8080/",
          "height": 238
        },
        "id": "5FOrshVX_dUE",
        "outputId": "66ef2dbc-29b6-4fbc-b0ff-64096afc53b3"
      },
      "outputs": [
        {
          "data": {
            "text/html": [
              "<div>\n",
              "<style scoped>\n",
              "    .dataframe tbody tr th:only-of-type {\n",
              "        vertical-align: middle;\n",
              "    }\n",
              "\n",
              "    .dataframe tbody tr th {\n",
              "        vertical-align: top;\n",
              "    }\n",
              "\n",
              "    .dataframe thead th {\n",
              "        text-align: right;\n",
              "    }\n",
              "</style>\n",
              "<table border=\"1\" class=\"dataframe\">\n",
              "  <thead>\n",
              "    <tr style=\"text-align: right;\">\n",
              "      <th></th>\n",
              "      <th>Unnamed: 0</th>\n",
              "      <th>value</th>\n",
              "    </tr>\n",
              "    <tr>\n",
              "      <th>timestamp</th>\n",
              "      <th></th>\n",
              "      <th></th>\n",
              "    </tr>\n",
              "  </thead>\n",
              "  <tbody>\n",
              "    <tr>\n",
              "      <th>1595323800</th>\n",
              "      <td>0</td>\n",
              "      <td>0.0</td>\n",
              "    </tr>\n",
              "    <tr>\n",
              "      <th>1595327400</th>\n",
              "      <td>1</td>\n",
              "      <td>0.0</td>\n",
              "    </tr>\n",
              "    <tr>\n",
              "      <th>1595331000</th>\n",
              "      <td>2</td>\n",
              "      <td>0.0</td>\n",
              "    </tr>\n",
              "    <tr>\n",
              "      <th>1595334600</th>\n",
              "      <td>3</td>\n",
              "      <td>0.0</td>\n",
              "    </tr>\n",
              "    <tr>\n",
              "      <th>1595338200</th>\n",
              "      <td>4</td>\n",
              "      <td>0.0</td>\n",
              "    </tr>\n",
              "  </tbody>\n",
              "</table>\n",
              "</div>"
            ],
            "text/plain": [
              "            Unnamed: 0 value\n",
              "timestamp                   \n",
              "1595323800           0   0.0\n",
              "1595327400           1   0.0\n",
              "1595331000           2   0.0\n",
              "1595334600           3   0.0\n",
              "1595338200           4   0.0"
            ]
          },
          "execution_count": 68,
          "metadata": {},
          "output_type": "execute_result"
        }
      ],
      "source": [
        "# Import with pandas \n",
        "import pandas as pd\n",
        "# Parse value timestamo from the file\n",
        "file_string=str(file_number)\n",
        "df = pd.read_csv(\"content/\"+file_string+\".csv\", \n",
        "                 parse_dates=[\"value\"], \n",
        "                 index_col=[\"timestamp\"]) # parse the timestamp column (tell pandas column 1 is a datetime)\n",
        "df.head()"
      ]
    },
    {
      "cell_type": "markdown",
      "metadata": {
        "id": "EQiDyqJaCdSS"
      },
      "source": [
        "Printing Dataframe info"
      ]
    },
    {
      "cell_type": "code",
      "execution_count": 69,
      "metadata": {
        "colab": {
          "base_uri": "https://localhost:8080/"
        },
        "id": "Z-YoeINjCzJ_",
        "outputId": "6c27a4f0-92ec-4ca4-fba1-2e536d2556e2"
      },
      "outputs": [
        {
          "name": "stdout",
          "output_type": "stream",
          "text": [
            "<class 'pandas.core.frame.DataFrame'>\n",
            "Int64Index: 840 entries, 1595323800 to 1598344200\n",
            "Data columns (total 2 columns):\n",
            " #   Column      Non-Null Count  Dtype \n",
            "---  ------      --------------  ----- \n",
            " 0   Unnamed: 0  840 non-null    int64 \n",
            " 1   value       840 non-null    object\n",
            "dtypes: int64(1), object(1)\n",
            "memory usage: 19.7+ KB\n"
          ]
        }
      ],
      "source": [
        "df.info()"
      ]
    },
    {
      "cell_type": "code",
      "execution_count": 70,
      "metadata": {
        "colab": {
          "base_uri": "https://localhost:8080/"
        },
        "id": "XP3cN0uvlxhi",
        "outputId": "22a9f85e-9ee8-4b1d-beb4-caf3466d983c"
      },
      "outputs": [
        {
          "data": {
            "text/plain": [
              "840"
            ]
          },
          "execution_count": 70,
          "metadata": {},
          "output_type": "execute_result"
        }
      ],
      "source": [
        "# How many samples do we have?\n",
        "len(df)"
      ]
    },
    {
      "cell_type": "markdown",
      "metadata": {
        "id": "u1RV6gYxC_Rs"
      },
      "source": []
    },
    {
      "cell_type": "code",
      "execution_count": 71,
      "metadata": {
        "colab": {
          "base_uri": "https://localhost:8080/",
          "height": 238
        },
        "id": "QxoNCv2NCuLY",
        "outputId": "38d6b903-e402-40b4-f631-7f968f782c24"
      },
      "outputs": [
        {
          "data": {
            "text/html": [
              "<div>\n",
              "<style scoped>\n",
              "    .dataframe tbody tr th:only-of-type {\n",
              "        vertical-align: middle;\n",
              "    }\n",
              "\n",
              "    .dataframe tbody tr th {\n",
              "        vertical-align: top;\n",
              "    }\n",
              "\n",
              "    .dataframe thead th {\n",
              "        text-align: right;\n",
              "    }\n",
              "</style>\n",
              "<table border=\"1\" class=\"dataframe\">\n",
              "  <thead>\n",
              "    <tr style=\"text-align: right;\">\n",
              "      <th></th>\n",
              "      <th>Price</th>\n",
              "    </tr>\n",
              "    <tr>\n",
              "      <th>timestamp</th>\n",
              "      <th></th>\n",
              "    </tr>\n",
              "  </thead>\n",
              "  <tbody>\n",
              "    <tr>\n",
              "      <th>1595323800</th>\n",
              "      <td>0.0</td>\n",
              "    </tr>\n",
              "    <tr>\n",
              "      <th>1595327400</th>\n",
              "      <td>0.0</td>\n",
              "    </tr>\n",
              "    <tr>\n",
              "      <th>1595331000</th>\n",
              "      <td>0.0</td>\n",
              "    </tr>\n",
              "    <tr>\n",
              "      <th>1595334600</th>\n",
              "      <td>0.0</td>\n",
              "    </tr>\n",
              "    <tr>\n",
              "      <th>1595338200</th>\n",
              "      <td>0.0</td>\n",
              "    </tr>\n",
              "  </tbody>\n",
              "</table>\n",
              "</div>"
            ],
            "text/plain": [
              "            Price\n",
              "timestamp        \n",
              "1595323800    0.0\n",
              "1595327400    0.0\n",
              "1595331000    0.0\n",
              "1595334600    0.0\n",
              "1595338200    0.0"
            ]
          },
          "execution_count": 71,
          "metadata": {},
          "output_type": "execute_result"
        }
      ],
      "source": [
        "# renaming value df to price\n",
        "value_df = pd.DataFrame(df[\"value\"]).rename(columns={\"value\": \"Price\"})\n",
        "value_df['Price'] = value_df['Price'].astype(float)\n",
        "value_df.head()\n",
        "\n"
      ]
    },
    {
      "cell_type": "markdown",
      "metadata": {
        "id": "olHSR6poID_w"
      },
      "source": [
        "Much better!\n",
        "\n",
        "But that's only five days worth of Bitcoin prices, let's plot everything we've got."
      ]
    },
    {
      "cell_type": "code",
      "execution_count": 72,
      "metadata": {
        "colab": {
          "base_uri": "https://localhost:8080/",
          "height": 720
        },
        "id": "CfkhZhmCEyUe",
        "outputId": "3a596ec3-590b-4ff0-e4f0-f8d4b648fef6"
      },
      "outputs": [
        {
          "name": "stdout",
          "output_type": "stream",
          "text": [
            "            Price\n",
            "timestamp        \n",
            "1595323800    0.0\n",
            "1595327400    0.0\n",
            "1595331000    0.0\n",
            "1595334600    0.0\n",
            "1595338200    0.0\n",
            "...           ...\n",
            "1598329800    0.0\n",
            "1598333400    0.0\n",
            "1598337000    0.0\n",
            "1598340600    0.0\n",
            "1598344200    0.0\n",
            "\n",
            "[840 rows x 1 columns]\n"
          ]
        },
        {
          "data": {
            "text/plain": [
              "<AxesSubplot:xlabel='timestamp'>"
            ]
          },
          "execution_count": 72,
          "metadata": {},
          "output_type": "execute_result"
        },
        {
          "data": {
            "image/png": "[encoded data removed]",
            "text/plain": [
              "<Figure size 1000x700 with 1 Axes>"
            ]
          },
          "metadata": {},
          "output_type": "display_data"
        }
      ],
      "source": [
        "import matplotlib.pyplot as plt\n",
        "print(value_df)\n",
        "value_df.plot(figsize=(10, 7))\n"
      ]
    },
    {
      "cell_type": "markdown",
      "metadata": {
        "id": "O2C1JsHUPYGG"
      },
      "source": [
        "### Importing data with Python's CSV module\n",
        "converting csv file "
      ]
    },
    {
      "cell_type": "code",
      "execution_count": 73,
      "metadata": {
        "colab": {
          "base_uri": "https://localhost:8080/"
        },
        "id": "UkTvwP2DCuGK",
        "outputId": "10b81498-9279-4d21-a608-48f91084afa9"
      },
      "outputs": [
        {
          "data": {
            "text/plain": [
              "([1595323800.0,\n",
              "  1595327400.0,\n",
              "  1595331000.0,\n",
              "  1595334600.0,\n",
              "  1595338200.0,\n",
              "  1595341800.0,\n",
              "  1595345400.0,\n",
              "  1595349000.0,\n",
              "  1595352600.0,\n",
              "  1595356200.0],\n",
              " [0.0, 0.0, 0.0, 0.0, 0.0, 0.0, 0.0, 0.0, 0.0, 0.0])"
            ]
          },
          "execution_count": 73,
          "metadata": {},
          "output_type": "execute_result"
        }
      ],
      "source": [
        "# Importing and formatting csv data with Python\n",
        "import csv\n",
        "\n",
        "timesteps = []\n",
        "value_column = []\n",
        "with open(\"./content/\"+file_string+\".csv\", \"r\") as f:\n",
        "  csv_reader = csv.reader(f, delimiter=\",\") # read in the target CSV\n",
        "  next(csv_reader) # skip first line (this gets rid of the column titles)\n",
        "  for line in csv_reader:\n",
        "    timesteps.append(float(line[2])) # get the value given in csv as float\n",
        "    value_column.append(float(line[1])) # get the price as float\n",
        "\n",
        "# View first 10 of each\n",
        "timesteps[:10], value_column[:10]\n",
        "\n"
      ]
    },
    {
      "cell_type": "markdown",
      "metadata": {
        "id": "40o59gpNKtRs"
      },
      "source": [
        "###Plotting the csv file\n"
      ]
    },
    {
      "cell_type": "code",
      "execution_count": 74,
      "metadata": {
        "colab": {
          "base_uri": "https://localhost:8080/",
          "height": 460
        },
        "id": "bTSX7RZ9Cytj",
        "outputId": "0a9585b7-250c-4526-b538-6c385bb4cb19"
      },
      "outputs": [
        {
          "data": {
            "image/png": "[encoded data removed]",
            "text/plain": [
              "<Figure size 1000x700 with 1 Axes>"
            ]
          },
          "metadata": {},
          "output_type": "display_data"
        }
      ],
      "source": [
        "# Plot from CSV\n",
        "import matplotlib.pyplot as plt\n",
        "import numpy as np\n",
        "plt.figure(figsize=(10, 7))\n",
        "plt.plot(timesteps,value_column)\n",
        "plt.title(\"variable data to timestamp\", fontsize=16)\n",
        "plt.xlabel(\"Timestamp\")\n",
        "plt.ylabel(\"Variable\");"
      ]
    },
    {
      "cell_type": "markdown",
      "metadata": {
        "id": "_nfP7i9R_dOp"
      },
      "source": [
        "## train and test sets for time series data\n",
        "Splitting the set into Training and Test data in first 75 percent in training and 25 percent in test data "
      ]
    },
    {
      "cell_type": "markdown",
      "metadata": {
        "id": "F0jPVUNztInE"
      },
      "source": [
        "And now we'll use the ever faithful `train_test_split` from Scikit-Learn to create our train and test sets."
      ]
    },
    {
      "cell_type": "markdown",
      "metadata": {
        "id": "PJbMDz1stTxZ"
      },
      "source": [
        "Looks like the splits worked well, but let's not trust numbers on a page, let's visualize, visualize, visualize!"
      ]
    },
    {
      "cell_type": "markdown",
      "metadata": {
        "id": "ajoASBK2size"
      },
      "source": [
        "#"
      ]
    },
    {
      "cell_type": "code",
      "execution_count": 75,
      "metadata": {
        "colab": {
          "base_uri": "https://localhost:8080/"
        },
        "id": "lpEVKyXANLT4",
        "outputId": "ea376170-c60b-463a-8e29-12e605e33206"
      },
      "outputs": [
        {
          "name": "stdout",
          "output_type": "stream",
          "text": [
            "[0.0, 0.0, 0.0, 0.0, 0.0, 0.0, 0.0, 0.0, 0.0, 0.0, 0.0, 0.0, 0.0, 0.0, 0.0, 0.0, 0.0, 0.0, 0.0, 0.0, 0.0, 0.0, 0.0, 0.0, 0.0, 0.0, 0.0, 0.0, 0.0, 0.0, 0.0, 0.0, 0.0, 0.0, 0.0, 0.0, 0.0, 0.0, 0.0, 0.0, 0.0, 0.0, 0.0, 0.0, 0.0, 0.0, 0.0, 0.0, 0.0, 0.0, 0.0, 0.0, 0.0, 0.0, 0.0, 0.0, 0.0, 0.0, 0.0, 0.0, 0.0, 0.0, 0.0, 0.0, 0.0, 0.0, 0.0, 0.0, 0.0, 0.0, 0.0, 0.0, 0.0, 0.0, 0.0, 0.0, 0.0, 0.0, 0.0, 0.0, 0.0, 0.0, 0.0, 0.0, 0.0, 0.0, 0.0, 0.0, 0.0, 0.0, 0.0, 0.0, 0.0, 0.0, 0.0, 0.0, 0.0, 0.0, 0.0, 0.0, 0.0, 0.0, 0.0, 0.0, 0.0, 0.0, 0.0, 0.0, 0.0, 0.0, 0.0, 0.0, 0.0, 0.0, 0.0, 0.0, 0.0, 0.0, 0.0, 0.0, 0.0, 0.0, 0.0, 0.0, 0.0, 0.0, 0.0, 0.0, 0.0, 0.0, 0.0, 0.0, 0.0, 0.0, 0.0, 0.0, 0.0, 0.0, 0.0, 0.0, 0.0, 0.0, 0.0, 0.0, 0.0, 0.0, 0.0, 0.0, 0.0, 0.0, 0.0, 0.0, 0.0, 0.0, 0.0, 0.0, 0.0, 0.0, 0.0, 0.0, 0.0, 0.0, 0.0, 0.0, 0.0, 0.0, 0.0, 0.0, 0.0, 0.0, 0.0, 0.0, 0.0, 0.0, 0.0, 0.0, 0.0, 0.0, 0.0, 0.0, 0.0, 0.0, 0.0, 0.0, 0.0, 0.0, 0.0, 0.0, 0.0, 0.0, 0.0, 0.0, 0.0, 0.0, 0.0, 0.0, 0.0, 0.0, 0.0, 0.0, 0.0, 0.0, 0.0, 0.0, 0.0, 0.0, 0.0, 0.0, 0.0, 0.0]\n"
          ]
        }
      ],
      "source": [
        "# Create train and test splits the right way for time series data\n",
        "split_size = int(0.75 * len(value_column)) # 75% train, 25% test\n",
        "\n",
        "# Create train data splits (everything before the split)\n",
        "X_train_original, y_train_original = timesteps[:split_size], value_column[:split_size]\n",
        "\n",
        "# Create test data splits (everything after the split)\n",
        "X_test_original, y_test_original = timesteps[split_size:], value_column[split_size:]\n",
        "\n",
        "len(X_train_original), len(X_test_original), len(y_train_original), len(y_test_original)\n",
        "print(y_test_original)"
      ]
    },
    {
      "cell_type": "markdown",
      "metadata": {
        "id": "qNxtdcUCsByk"
      },
      "source": [
        "### Importing ReVIN from the official implementation\n",
        "\n",
        "Source =https://github.com/ts-kim/RevIN\n",
        "\n",
        "Citation\n",
        "If you find this work or code is helpful in your research, please cite:\n",
        "***\n",
        "@inproceedings{kim2021reversible,\n",
        "  title     = {Reversible Instance Normalization for Accurate Time-Series Forecasting against Distribution Shift},\n",
        "  author    = {Kim, Taesung and \n",
        "               Kim, Jinhee and \n",
        "               Tae, Yunwon and \n",
        "               Park, Cheonbok and \n",
        "               Choi, Jang-Ho and \n",
        "               Choo, Jaegul},\n",
        "  booktitle = {International Conference on Learning Representations},\n",
        "  year      = {2021},\n",
        "  url       = {https://openreview.net/forum?id=cGDAkQo1C0p}\n",
        "}\n",
        "***"
      ]
    },
    {
      "cell_type": "code",
      "execution_count": 76,
      "metadata": {
        "id": "TA5pt_SDtASx"
      },
      "outputs": [],
      "source": [
        "import torch\n",
        "import torch.nn as nn\n",
        "\n",
        "class RevIN(nn.Module):\n",
        "    def __init__(self, num_features: int, eps=1e-5, affine=True):\n",
        "        \"\"\"\n",
        "        :param num_features: the number of features or channels\n",
        "        :param eps: a value added for numerical stability\n",
        "        :param affine: if True, RevIN has learnable affine parameters\n",
        "        \"\"\"\n",
        "        super(RevIN, self).__init__()\n",
        "        self.num_features = num_features\n",
        "        self.eps = eps\n",
        "        self.affine = affine\n",
        "        if self.affine:\n",
        "            self._init_params()\n",
        "\n",
        "    def forward(self, x, mode:str):\n",
        "        if mode == 'norm':\n",
        "            self._get_statistics(x)\n",
        "            x = self._normalize(x)\n",
        "        elif mode == 'denorm':\n",
        "            x = self._denormalize(x)\n",
        "        else: raise NotImplementedError\n",
        "        return x\n",
        "\n",
        "    def _init_params(self):\n",
        "        # initialize RevIN params: (C,)\n",
        "        self.affine_weight = nn.Parameter(torch.ones(self.num_features))\n",
        "        self.affine_bias = nn.Parameter(torch.zeros(self.num_features))\n",
        "\n",
        "    def _get_statistics(self, x):\n",
        "        dim2reduce = tuple(range(1, x.ndim-1))\n",
        "        self.mean = torch.mean(x, dim=dim2reduce, keepdim=True).detach()\n",
        "        self.stdev = torch.sqrt(torch.var(x, dim=dim2reduce, keepdim=True, unbiased=False) + self.eps).detach()\n",
        "\n",
        "    def _normalize(self, x):\n",
        "        x = x - self.mean\n",
        "        x = x / self.stdev\n",
        "        if self.affine:\n",
        "            x = x * self.affine_weight\n",
        "            x = x + self.affine_bias\n",
        "        return x\n",
        "\n",
        "    def _denormalize(self, x):\n",
        "        if self.affine:\n",
        "            x = x - self.affine_bias\n",
        "            x = x / (self.affine_weight + self.eps*self.eps)\n",
        "        x = x * self.stdev\n",
        "        x = x + self.mean\n",
        "        return x"
      ]
    },
    {
      "cell_type": "markdown",
      "metadata": {
        "id": "ucQszDXcrVTX"
      },
      "source": [
        "### Instance Normalisation for ReVIAN implementation\n",
        "instance normalising on the data and then splitting the data in training and test"
      ]
    },
    {
      "cell_type": "markdown",
      "metadata": {
        "id": "ZLboJ1U_y1s1"
      },
      "source": [
        "### [Normalising] the data from the csv\n"
      ]
    },
    {
      "cell_type": "code",
      "execution_count": 77,
      "metadata": {
        "colab": {
          "base_uri": "https://localhost:8080/"
        },
        "id": "2lWvLzotzUDy",
        "outputId": "8b03d917-4e0d-4b5a-8c85-61bcc2b88e26"
      },
      "outputs": [
        {
          "name": "stdout",
          "output_type": "stream",
          "text": [
            "[0. 0. 0. 0. 0.]\n"
          ]
        }
      ],
      "source": [
        "num_features=1\n",
        "revin_layer = RevIN(num_features)\n",
        "input= numpy.array(value_column) # normalising the value column\n",
        "tensor=torch.from_numpy(input)  # converting input set to tensor for normalising\n",
        "# print(tensor)\n",
        "value_column = revin_layer(tensor, 'norm')\n",
        "\n",
        "value_column=value_column.detach()\n",
        "value_column =value_column.numpy()\n",
        "print(value_column[0:5]) # printing 5 values \n",
        "\n"
      ]
    },
    {
      "cell_type": "markdown",
      "metadata": {
        "id": "WThBH2cpzHhX"
      },
      "source": []
    },
    {
      "cell_type": "code",
      "execution_count": 78,
      "metadata": {
        "colab": {
          "base_uri": "https://localhost:8080/"
        },
        "id": "0Q0NmXIBrU6l",
        "outputId": "d118af68-93f3-4f85-f3dd-6be83a9b1568"
      },
      "outputs": [
        {
          "data": {
            "text/plain": [
              "(630, 210, 630, 210)"
            ]
          },
          "execution_count": 78,
          "metadata": {},
          "output_type": "execute_result"
        }
      ],
      "source": [
        "# Create train and test splits\n",
        "split_size = int(0.75 * len(value_column)) # 75% train, 25% test\n",
        "\n",
        "# training data\n",
        "X_train, y_train = timesteps[:split_size], value_column[:split_size]\n",
        "\n",
        "# testing data\n",
        "X_test, y_test = timesteps[split_size:], value_column[split_size:]\n",
        "\n",
        "len(X_train), len(X_test), len(y_train), len(y_test)"
      ]
    },
    {
      "cell_type": "markdown",
      "metadata": {
        "id": "ByN_YCotv3zk"
      },
      "source": [
        "Visualising the training and test split data "
      ]
    },
    {
      "cell_type": "code",
      "execution_count": 79,
      "metadata": {
        "colab": {
          "base_uri": "https://localhost:8080/",
          "height": 442
        },
        "id": "L9QImNlhOQuS",
        "outputId": "064031bf-4110-4ee3-b447-026292523853"
      },
      "outputs": [
        {
          "data": {
            "image/png": "[encoded data removed]",
            "text/plain": [
              "<Figure size 1000x700 with 1 Axes>"
            ]
          },
          "metadata": {},
          "output_type": "display_data"
        }
      ],
      "source": [
        "# Plot train and test splits\n",
        "plt.figure(figsize=(10, 7))\n",
        "plt.plot(X_train, y_train, label=\"Train data\")\n",
        "plt.plot(X_test, y_test, label=\"Test data\")\n",
        "plt.xlabel(\"timestamp\")\n",
        "plt.ylabel(\"value\")\n",
        "plt.legend(fontsize=14)\n",
        "plt.savefig('img'+str(file_number)+'_first.png')\n",
        "plt.show()\n"
      ]
    },
    {
      "cell_type": "markdown",
      "metadata": {
        "id": "tmp1pSbaunlf"
      },
      "source": []
    },
    {
      "cell_type": "markdown",
      "metadata": {
        "id": "sGUelYVKCybB"
      },
      "source": [
        "###  plotting function\n",
        "defining a plotting function to be used again and again"
      ]
    },
    {
      "cell_type": "code",
      "execution_count": 80,
      "metadata": {
        "id": "trkvizA0C6vc"
      },
      "outputs": [],
      "source": [
        "# Create a function to plot time series data\n",
        "def plot_time_series(timesteps, values, format='.', start=0, end=None, label=None):\n",
        "\n",
        "  # Plot the series\n",
        "  plt.plot(timesteps[start:end], values[start:end], format, label=label)\n",
        "  plt.xlabel(\"Timestamp\")\n",
        "  plt.ylabel(\"value\")\n",
        "  if label:\n",
        "    plt.legend(fontsize=14) # make label bigger\n",
        "  plt.grid(True)"
      ]
    },
    {
      "cell_type": "code",
      "execution_count": 81,
      "metadata": {
        "colab": {
          "base_uri": "https://localhost:8080/",
          "height": 442
        },
        "id": "6TyFY1cGC_sw",
        "outputId": "4dd12a8a-f408-424c-d03e-d1b1223f9240"
      },
      "outputs": [
        {
          "data": {
            "image/png": "[encoded data removed]",
            "text/plain": [
              "<Figure size 1000x700 with 1 Axes>"
            ]
          },
          "metadata": {},
          "output_type": "display_data"
        }
      ],
      "source": [
        "# Try out our plotting function\n",
        "plt.figure(figsize=(10, 7))\n",
        "plot_time_series(timesteps=X_train, values=y_train, label=\"Train data\")\n",
        "plot_time_series(timesteps=X_test, values=y_test, label=\"Test data\")"
      ]
    },
    {
      "cell_type": "markdown",
      "metadata": {
        "id": "SDeel1jj8ioU"
      },
      "source": []
    },
    {
      "cell_type": "markdown",
      "metadata": {
        "id": "cwSpQQRl_dHb"
      },
      "source": [
        "## Models"
      ]
    },
    {
      "cell_type": "markdown",
      "metadata": {
        "id": "JO1YAv7w_dE7"
      },
      "source": [
        "## creating test Naive prediction for finding MASE \n",
        "\n",
        "> Indented block\n",
        "\n",
        "\n",
        "Testing forecast data by feeding the value with value of time [-1]"
      ]
    },
    {
      "cell_type": "code",
      "execution_count": 82,
      "metadata": {
        "colab": {
          "base_uri": "https://localhost:8080/"
        },
        "id": "nCKGUO4OVos9",
        "outputId": "f6f4d625-41d3-49bd-90e7-72253e85e85c"
      },
      "outputs": [
        {
          "data": {
            "text/plain": [
              "(array([0., 0., 0., 0., 0.]), array([0., 0., 0., 0., 0.]))"
            ]
          },
          "execution_count": 82,
          "metadata": {},
          "output_type": "execute_result"
        }
      ],
      "source": [
        "# Create a naïve forecast\n",
        "naive_forecast = y_test[:-1] # Naïve forecast equals every value excluding the last value\n",
        "naive_forecast[:5], naive_forecast[-5:] # View first 5 and last 5 values"
      ]
    },
    {
      "cell_type": "code",
      "execution_count": 83,
      "metadata": {
        "colab": {
          "base_uri": "https://localhost:8080/",
          "height": 442
        },
        "id": "a0NLHXDhWDX-",
        "outputId": "c25a28dc-bdfb-4778-9dc9-b41cb4cef208"
      },
      "outputs": [
        {
          "data": {
            "image/png": "[encoded data removed]",
            "text/plain": [
              "<Figure size 1000x700 with 1 Axes>"
            ]
          },
          "metadata": {},
          "output_type": "display_data"
        }
      ],
      "source": [
        "# Plot naive forecast\n",
        "plt.figure(figsize=(10, 7))\n",
        "plot_time_series(timesteps=X_train, values=y_train, label=\"Train data\")\n",
        "plot_time_series(timesteps=X_test, values=y_test, label=\"Test data\")\n",
        "plot_time_series(timesteps=X_test[1:], values=naive_forecast, format=\"-\", label=\"Naive forecast\");"
      ]
    },
    {
      "cell_type": "code",
      "execution_count": 84,
      "metadata": {
        "colab": {
          "base_uri": "https://localhost:8080/",
          "height": 442
        },
        "id": "dx0wUhtOW_VX",
        "outputId": "83f52c4e-ae92-4ed6-f6f9-9279223d01be"
      },
      "outputs": [
        {
          "data": {
            "image/png": "[encoded data removed]",
            "text/plain": [
              "<Figure size 1000x700 with 1 Axes>"
            ]
          },
          "metadata": {},
          "output_type": "display_data"
        }
      ],
      "source": [
        "plt.figure(figsize=(10, 7))\n",
        "offset = 70 # offset the values by 70 timesteps \n",
        "plot_time_series(timesteps=X_test, values=y_test, start=offset, label=\"Test data\")\n",
        "plot_time_series(timesteps=X_test[1:], values=naive_forecast, format=\"-\", start=offset, label=\"Naive forecast\");"
      ]
    },
    {
      "cell_type": "markdown",
      "metadata": {
        "id": "yD4P7-wwUVWj"
      },
      "source": [
        "function for evaluating the metrics\n",
        "\n",
        "1.   MASE \n",
        "2.   MSE \n",
        "3.   RMSE\n",
        "4.   MApE\n",
        "\n",
        "\n",
        "#NOTE  :- MASE need to be defined as it is not a  function in tf library"
      ]
    },
    {
      "cell_type": "code",
      "execution_count": 85,
      "metadata": {
        "id": "Vc8wEr-CUi4e"
      },
      "outputs": [],
      "source": [
        "import tensorflow as tf"
      ]
    },
    {
      "cell_type": "code",
      "execution_count": 86,
      "metadata": {
        "id": "KLWe3cU7UeHe"
      },
      "outputs": [],
      "source": [
        "# MASE implemented courtesy of sktime - https://github.com/alan-turing-institute/sktime/blob/ee7a06843a44f4aaec7582d847e36073a9ab0566/sktime/performance_metrics/forecasting/_functions.py#L16\n",
        "def mean_absolute_scaled_error(y_true, y_pred):\n",
        "  \"\"\"\n",
        "  Implement MASE (assuming no seasonality of data).\n",
        "  \"\"\"\n",
        "  mae = tf.reduce_mean(tf.abs(y_true - y_pred))\n",
        "\n",
        "  # Find MAE of naive forecast (no seasonality)\n",
        "  mae_naive_no_season = tf.reduce_mean(tf.abs(y_true[1:] - y_true[:-1])) # our seasonality is 1 day (hence the shifting of 1 day)\n",
        "\n",
        "  return mae / mae_naive_no_season"
      ]
    },
    {
      "cell_type": "code",
      "execution_count": 87,
      "metadata": {
        "id": "MwMeVgRXWaJp"
      },
      "outputs": [],
      "source": [
        "def evaluate_preds(y_true, y_pred):\n",
        "  # Make sure float32 (for metric calculations)\n",
        "  y_true = tf.cast(y_true, dtype=tf.float64)\n",
        "  y_pred = tf.cast(y_pred, dtype=tf.float64)\n",
        "\n",
        "  # Calculate various metrics\n",
        "  mae = tf.keras.metrics.mean_absolute_error(y_true, y_pred)\n",
        "  mse = tf.keras.metrics.mean_squared_error(y_true, y_pred) # puts and emphasis on outliers (all errors get squared)\n",
        "  rmse = tf.sqrt(mse)\n",
        "  mape = tf.keras.metrics.mean_absolute_percentage_error(y_true, y_pred)\n",
        "  mase = mean_absolute_scaled_error(y_true, y_pred)\n",
        "  \n",
        "  return {\"mae\": mae.numpy(),\n",
        "          \"mse\": mse.numpy(),\n",
        "          \"rmse\": rmse.numpy(),\n",
        "          \"mape\": mape.numpy(),\n",
        "          \"mase\": mase.numpy()}"
      ]
    },
    {
      "cell_type": "markdown",
      "metadata": {
        "id": "VAKTXEIPVKfR"
      },
      "source": [
        "### implementing metrics on Naive prediction"
      ]
    },
    {
      "cell_type": "code",
      "execution_count": 88,
      "metadata": {
        "colab": {
          "base_uri": "https://localhost:8080/"
        },
        "id": "HbJlsvUwYEsf",
        "outputId": "703e1940-55fd-41c1-fb1e-5a84d9391058"
      },
      "outputs": [
        {
          "name": "stdout",
          "output_type": "stream",
          "text": [
            "<class 'numpy.float64'>\n",
            "209\n",
            "<class 'numpy.float64'>\n"
          ]
        },
        {
          "data": {
            "text/plain": [
              "{'mae': 0.0, 'mse': 0.0, 'rmse': 0.0, 'mape': 0.0, 'mase': nan}"
            ]
          },
          "execution_count": 88,
          "metadata": {},
          "output_type": "execute_result"
        }
      ],
      "source": [
        "print(type(y_test[0]))\n",
        "print(len(naive_forecast))\n",
        "y_test = np.asarray(y_test, dtype=float)\n",
        "naive_forecast = np.asarray(naive_forecast, dtype=float)\n",
        "print(type(y_test[0]))\n",
        "naive_results = evaluate_preds(y_true=y_test[1:],y_pred=naive_forecast)\n",
        "naive_results"
      ]
    },
    {
      "cell_type": "markdown",
      "metadata": {
        "id": "e8AzwUvjBkgY"
      },
      "source": [
        "## Windowing and Horizon\n",
        "\n",
        "\n",
        "++++\n",
        "Windowing is a method to turn a time series dataset into **supervised learning problem**. \n",
        "++++++\n",
        "\n",
        "In other words, we want to use windows of the past to predict the future.\n",
        "\n",
        "For example for a univariate time series, windowing for one week (`window=7`) to predict the next single value (`horizon=1`) might look like:\n",
        "\n",
        "```\n",
        "Window for one week (univariate time series)\n",
        "\n",
        "[0, 1, 2, 3, 4, 5, 6] -> [7]\n",
        "[1, 2, 3, 4, 5, 6, 7] -> [8]\n",
        "[2, 3, 4, 5, 6, 7, 8] -> [9]\n",
        "```\n",
        "for 1.csv value example\n",
        "\n",
        "```\n",
        "Window for 7 consecutive values with the target of predicting the next value\n",
        "\n",
        "[28.1641,28.1823,28.1979,28.1641,28.1771,28.1875]  ->28.1589\n",
        "[28.1823,28.1979,28.1641,28.1771,28.1875,28.1589]  ->28.1914\n",
        "[28.1979,28.1641,28.1771,28.1875,28.1589,28.1914]  ->28.1589\n",
        "[28.1641,28.1771,28.1875,28.1875,28.1589,28.1589]  ->28.1693\n",
        "```\n",
        "\n",
        "##initialising horizon size and window size\n",
        "\n",
        "We'll start with the default horizon size of 1 and a window size of 7 \\"
      ]
    },
    {
      "cell_type": "code",
      "execution_count": 89,
      "metadata": {
        "id": "LibzWQXM2ib-"
      },
      "outputs": [],
      "source": [
        "HORIZON = 1 \n",
        "WINDOW_SIZE = 7 "
      ]
    },
    {
      "cell_type": "markdown",
      "metadata": {
        "id": "1AQ0HWWzfRW_"
      },
      "source": [
        " a function to take in an array and turn it into a window and horizon."
      ]
    },
    {
      "cell_type": "code",
      "execution_count": 90,
      "metadata": {
        "id": "zV8pv5K_x81E"
      },
      "outputs": [],
      "source": [
        "# Create function to label windowed data\n",
        "def get_labelled_windows(x, horizon=1):\n",
        "  \"\"\"\n",
        "  Creates labels for windowed dataset.\n",
        "\n",
        "  E.g. if horizon=1 (default)\n",
        "  Input: [1, 2, 3, 4, 5, 6] -> Output: ([1, 2, 3, 4, 5], [6])\n",
        "  \"\"\"\n",
        "  return x[:, :-horizon], x[:, -horizon:]"
      ]
    },
    {
      "cell_type": "code",
      "execution_count": 91,
      "metadata": {
        "colab": {
          "base_uri": "https://localhost:8080/"
        },
        "id": "ejJ9vCyKff8F",
        "outputId": "e0be405f-8186-4c0b-9e98-36ee3699912f"
      },
      "outputs": [
        {
          "name": "stdout",
          "output_type": "stream",
          "text": [
            "Window: [1 2 3 4 5 6 7] -> Label: 8\n"
          ]
        }
      ],
      "source": [
        "# Test out the window labelling function\n",
        "test_window, test_label = get_labelled_windows(tf.expand_dims(tf.range(8)+1, axis=0), horizon=HORIZON)\n",
        "print(f\"Window: {tf.squeeze(test_window).numpy()} -> Label: {tf.squeeze(test_label).numpy()}\")"
      ]
    },
    {
      "cell_type": "markdown",
      "metadata": {
        "id": "qc4U4ExKfx6S"
      },
      "source": [
        "\n",
        "> 📖 **Resource:**(https://towardsdatascience.com/fast-and-robust-sliding-window-vectorization-with-numpy-3ad950ed62f5)."
      ]
    },
    {
      "cell_type": "code",
      "execution_count": 92,
      "metadata": {
        "id": "apea0wiJyCI6"
      },
      "outputs": [],
      "source": [
        "# Create function to view NumPy arrays as windows \n",
        "def make_windows(x, window_size=7, horizon=1):\n",
        "  \"\"\"\n",
        "  Turns a 1D array into a 2D array of sequential windows of window_size.\n",
        "  \"\"\"\n",
        "  # 1. Create a window of specific window_size (add the horizon on the end for later labelling)\n",
        "  window_step = np.expand_dims(np.arange(window_size+horizon), axis=0)\n",
        "  # print(f\"Window step:\\n {window_step}\")\n",
        "\n",
        "  # 2. Create a 2D array of multiple window steps (minus 1 to account for 0 indexing)\n",
        "  window_indexes = window_step + np.expand_dims(np.arange(len(x)-(window_size+horizon-1)), axis=0).T # create 2D array of windows of size window_size\n",
        "  # print(f\"Window indexes:\\n {window_indexes[:3], window_indexes[-3:], window_indexes.shape}\")\n",
        "\n",
        "  # 3. Index on the target array (time series) with 2D array of multiple window steps\n",
        "  windowed_array = x[window_indexes]\n",
        "\n",
        "  # 4. Get the labelled windows\n",
        "  windows, labels = get_labelled_windows(windowed_array, horizon=horizon)\n",
        "\n",
        "  return windows, labels"
      ]
    },
    {
      "cell_type": "code",
      "execution_count": 93,
      "metadata": {
        "colab": {
          "base_uri": "https://localhost:8080/"
        },
        "id": "7RsDPZal13mW",
        "outputId": "bd983c5f-e915-493a-b8d1-15f686ecde62"
      },
      "outputs": [
        {
          "data": {
            "text/plain": [
              "(833, 833)"
            ]
          },
          "execution_count": 93,
          "metadata": {},
          "output_type": "execute_result"
        }
      ],
      "source": [
        "# normalised data windowed\n",
        "full_windows, full_labels = make_windows(value_column, window_size=WINDOW_SIZE, horizon=HORIZON)\n",
        "len(full_windows), len(full_labels)"
      ]
    },
    {
      "cell_type": "code",
      "execution_count": 94,
      "metadata": {
        "id": "u7Yc3V7fc1UG"
      },
      "outputs": [],
      "source": [
        "# taking original window data for comparision\n",
        "# full_windows, full_labels = make_windows(prices, window_size=WINDOW_SIZE, horizon=HORIZON)\n",
        "# len(full_windows), len(full_labels)"
      ]
    },
    {
      "cell_type": "markdown",
      "metadata": {
        "id": "xhj521fWlJsy"
      },
      "source": [
        "Of course we have to visualize, visualize, visualize!"
      ]
    },
    {
      "cell_type": "code",
      "execution_count": 95,
      "metadata": {
        "colab": {
          "base_uri": "https://localhost:8080/"
        },
        "id": "U1P-MT4CkYta",
        "outputId": "2536185b-9715-410e-fe8d-dfaa54720a51"
      },
      "outputs": [
        {
          "name": "stdout",
          "output_type": "stream",
          "text": [
            "Window: [0. 0. 0. 0. 0. 0. 0.] -> Label: [0.]\n",
            "Window: [0. 0. 0. 0. 0. 0. 0.] -> Label: [0.]\n",
            "Window: [0. 0. 0. 0. 0. 0. 0.] -> Label: [0.]\n"
          ]
        }
      ],
      "source": [
        "# View the first 3 windows/labels\n",
        "for i in range(3):\n",
        "  print(f\"Window: {full_windows[i]} -> Label: {full_labels[i]}\")"
      ]
    },
    {
      "cell_type": "code",
      "execution_count": 96,
      "metadata": {
        "colab": {
          "base_uri": "https://localhost:8080/"
        },
        "id": "UCDtm6gskjRH",
        "outputId": "691d023a-ae79-469a-cffe-cc0c1a1b4855"
      },
      "outputs": [
        {
          "name": "stdout",
          "output_type": "stream",
          "text": [
            "Window: [0. 0. 0. 0. 0. 0. 0.] -> Label: [0.]\n",
            "Window: [0. 0. 0. 0. 0. 0. 0.] -> Label: [0.]\n",
            "Window: [0. 0. 0. 0. 0. 0. 0.] -> Label: [0.]\n"
          ]
        }
      ],
      "source": [
        "# View the last 3 windows/labels\n",
        "for i in range(3):\n",
        "  print(f\"Window: {full_windows[i-3]} -> Label: {full_labels[i-3]}\")"
      ]
    },
    {
      "cell_type": "markdown",
      "metadata": {
        "id": "UkRN1QuGoKKS"
      },
      "source": [
        "###  RIVIAN normallisation\n",
        "## Reference official implementation\n",
        "https://github.com/ts-kim/RevIN\n",
        "\n"
      ]
    },
    {
      "cell_type": "markdown",
      "metadata": {
        "id": "yaE5Tec55Rbu"
      },
      "source": [
        "### Trying to understand REviAN"
      ]
    },
    {
      "cell_type": "markdown",
      "metadata": {
        "id": "exTivzXvgbmb"
      },
      "source": [
        "## Turning windows into training and test sets \n",
        "\n"
      ]
    },
    {
      "cell_type": "code",
      "execution_count": 97,
      "metadata": {
        "id": "o_8BRgb8YtP3"
      },
      "outputs": [],
      "source": [
        "# Make the train/test splits\n",
        "def make_train_test_splits(windows, labels, test_split=0.25):\n",
        "  \"\"\"\n",
        "  Splits matching pairs of windows and labels into train and test splits.\n",
        "  \"\"\"\n",
        "  split_size = int(len(windows) * (1-test_split)) # this will default to 75% train/25% test\n",
        "  train_windows = windows[:split_size]\n",
        "  train_labels = labels[:split_size]\n",
        "  test_windows = windows[split_size:]\n",
        "  test_labels = labels[split_size:]\n",
        "  return train_windows, test_windows, train_labels, test_labels"
      ]
    },
    {
      "cell_type": "markdown",
      "metadata": {
        "id": "_062e8Oec9cf"
      },
      "source": [
        "Look at that amazing function, lets test it."
      ]
    },
    {
      "cell_type": "code",
      "execution_count": 98,
      "metadata": {
        "colab": {
          "base_uri": "https://localhost:8080/"
        },
        "id": "z_xY8T7HEaoU",
        "outputId": "3035d820-7da2-4a23-cacf-f8570118bf08"
      },
      "outputs": [
        {
          "data": {
            "text/plain": [
              "(624, 209, 624, 209)"
            ]
          },
          "execution_count": 98,
          "metadata": {},
          "output_type": "execute_result"
        }
      ],
      "source": [
        "train_windows, test_windows, train_labels, test_labels = make_train_test_splits(full_windows, full_labels)\n",
        "len(train_windows), len(test_windows), len(train_labels), len(test_labels)"
      ]
    },
    {
      "cell_type": "markdown",
      "metadata": {
        "id": "75_YBwiedI2s"
      },
      "source": [
        "looking at the sample 5 sample of the windowed element"
      ]
    },
    {
      "cell_type": "code",
      "execution_count": 99,
      "metadata": {
        "colab": {
          "base_uri": "https://localhost:8080/"
        },
        "id": "DDgyT7Gix1fH",
        "outputId": "605ddbe9-f6a6-459f-9b85-4602062a4611"
      },
      "outputs": [
        {
          "data": {
            "text/plain": [
              "(array([[0., 0., 0., 0., 0., 0., 0.],\n",
              "        [0., 0., 0., 0., 0., 0., 0.],\n",
              "        [0., 0., 0., 0., 0., 0., 0.],\n",
              "        [0., 0., 0., 0., 0., 0., 0.],\n",
              "        [0., 0., 0., 0., 0., 0., 0.]]),\n",
              " array([[0.],\n",
              "        [0.],\n",
              "        [0.],\n",
              "        [0.],\n",
              "        [0.]]))"
            ]
          },
          "execution_count": 99,
          "metadata": {},
          "output_type": "execute_result"
        }
      ],
      "source": [
        "train_windows[:5], train_labels[:5]"
      ]
    },
    {
      "cell_type": "code",
      "execution_count": null,
      "metadata": {
        "id": "W7saFGkdzN-c"
      },
      "outputs": [],
      "source": []
    },
    {
      "cell_type": "markdown",
      "metadata": {
        "id": "-W8iUF4U7AE-"
      },
      "source": [
        "### For Personal use(**Ignore** the commented out part below)"
      ]
    },
    {
      "cell_type": "code",
      "execution_count": 100,
      "metadata": {
        "id": "D3DNKnUl5fx1"
      },
      "outputs": [],
      "source": [
        "#  num_features=1\n",
        "#  import numpy\n",
        "#  revin_layer = RevIN(num_features)\n",
        "#  input = train_windows\n",
        "#  tensor = torch.from_numpy(input)\n",
        "#  print(torch.randn(1, 100, 40))\n",
        "#  print(input)\n",
        "#  print(tensor)\n",
        "#  x_in = revin_layer(tensor, 'norm')\n",
        "#  print(x_in)\n",
        "#  x_in.detach()\n",
        "#  print(x_in)\n",
        "#  x_in = x_in.detach()\n",
        "#  print(x_in)\n",
        "#  x_in =x_in.numpy()\n",
        "#  print(x_in)\n",
        "\n",
        "#  #denormalise\n",
        "#  x_out=x_in\n",
        "#  x_out_tensor = torch.from_numpy(x_out)\n",
        "#  print(x_out_tensor)\n",
        "#  x_out = revin_layer(x_out_tensor, 'denorm')\n",
        "#  print(x_out)\n",
        "#  x_out=x_out.detach()\n",
        "#  x_out =x_out.numpy()\n",
        "#  print(x_out)\n",
        "\n",
        "\n",
        "\n",
        "#  print(x_in)\n",
        "#  x_out = revin_layer(x_in, 'denorm')\n",
        "#  print(x_out)"
      ]
    },
    {
      "cell_type": "markdown",
      "metadata": {
        "id": "DBaIPib3Amid"
      },
      "source": [
        "### Visualising the  Normalised data(ignore the commented out part below)"
      ]
    },
    {
      "cell_type": "code",
      "execution_count": 101,
      "metadata": {
        "id": "1Jtzi10SAvA_"
      },
      "outputs": [],
      "source": [
        "\n",
        "#  #getting normalised array in 1D for visualisation for plotting\n",
        "#  plot_arr=[]\n",
        "#  for i in range(len(x_in)):\n",
        "#    plot_arr.append(x_in[i][0])\n",
        "#  for i in range(1,len(x_in[-1])):\n",
        "#    plot_arr.append(x_in[-1][i])\n",
        "#  print(plot_arr)\n",
        "#  print(len(plot_arr))\n",
        "#  print(X_train)\n",
        "# #  print(len(x_in))\n",
        "#  print(len(X_train))\n",
        "# #  plt.figure(figsize=(10, 7))         un comment for scatter plot\n",
        "# #  plot_time_series(timesteps=X_train, values=plot_arr, label=\"Normalised data visualisation\")  \n",
        "# plt.figure(figsize=(10, 7))\n",
        "# plt.plot(X_train,y_train)\n",
        "# plt.plot(X_test,y_test)\n",
        "# plt.title(\"variable training data to timestamp Normalised\", fontsize=16)\n",
        "# plt.xlabel(\"Timestamp\")\n",
        "# plt.ylabel(\"Variable\");"
      ]
    },
    {
      "cell_type": "code",
      "execution_count": 102,
      "metadata": {
        "colab": {
          "base_uri": "https://localhost:8080/"
        },
        "id": "TkF0HmvadHBB",
        "outputId": "a44032fe-72fd-47e4-c7b1-7c13ccd9fb42"
      },
      "outputs": [
        {
          "data": {
            "text/plain": [
              "False"
            ]
          },
          "execution_count": 102,
          "metadata": {},
          "output_type": "execute_result"
        }
      ],
      "source": [
        "# Check to see if same (accounting for horizon and window size)\n",
        "np.array_equal(np.squeeze(train_labels[:-HORIZON-1]), y_train[WINDOW_SIZE:])"
      ]
    },
    {
      "cell_type": "markdown",
      "metadata": {
        "id": "PQX0PF5jV4aq"
      },
      "source": [
        "## Make a modelling checkpoint(optional)\n",
        "To do this, we'll write a small function to create a `ModelCheckpoint` callback which saves a model to specified filename."
      ]
    },
    {
      "cell_type": "code",
      "execution_count": 103,
      "metadata": {
        "id": "Xh8i1f7rV_P2"
      },
      "outputs": [],
      "source": [
        "import os\n",
        "\n",
        "# Create a function to implement a ModelCheckpoint callback with a specific filename \n",
        "def create_model_checkpoint(model_name, save_path=\"model_experiments\"):\n",
        "  return tf.keras.callbacks.ModelCheckpoint(filepath=os.path.join(save_path, model_name), # create filepath to save model\n",
        "                                            verbose=0, # only output a limited amount of text\n",
        "                                            save_best_only=True) # save only the best model to file"
      ]
    },
    {
      "cell_type": "markdown",
      "metadata": {
        "id": "Pbfw5uqEzlZ3"
      },
      "source": [
        "Training and test multivariate time series datasets made! Time to build a model."
      ]
    },
    {
      "cell_type": "markdown",
      "metadata": {
        "id": "TPkzQccU-dtR"
      },
      "source": [
        "## implementing : N-BEATS algorithm\n",
        "\n",
        "\n",
        "\n",
        "![figure 1 from N-BEATS paper, the algorithm we're going to build](https://raw.githubusercontent.com/ServiceNow/N-BEATS/master/nbeats.png)\n",
        "\n",
        "\n"
      ]
    },
    {
      "cell_type": "markdown",
      "metadata": {
        "id": "Qukx3nigVsCg"
      },
      "source": [
        "### Building and testing an N-BEATS block layer\n",
        "\n",
        "Let's start by building an N-BEATS block layer, we'll write the code first and then discuss what's going on."
      ]
    },
    {
      "cell_type": "code",
      "execution_count": 104,
      "metadata": {
        "id": "llwhXCn9-hQt"
      },
      "outputs": [],
      "source": [
        "# Create NBeatsBlock custom layer \n",
        "import tensorflow as tf\n",
        "from tensorflow.keras import layers\n",
        "class NBeatsBlock(tf.keras.layers.Layer):\n",
        "  def __init__(self, \n",
        "               input_size: int,\n",
        "               theta_size: int,\n",
        "               horizon: int,\n",
        "               n_neurons: int,\n",
        "               n_layers: int,\n",
        "               **kwargs): # the **kwargs argument takes care of all of the arguments for the parent class (input_shape, trainable, name)\n",
        "    super().__init__(**kwargs)\n",
        "    self.input_size = input_size\n",
        "    self.theta_size = theta_size\n",
        "    self.horizon = horizon\n",
        "    self.n_neurons = n_neurons\n",
        "    self.n_layers = n_layers\n",
        "\n",
        "    # Block contains stack of 4 fully connected layers each has ReLU activation\n",
        "    self.hidden = [tf.keras.layers.Dense(n_neurons, activation=\"relu\") for _ in range(n_layers)]\n",
        "    # Output of block is a theta layer with linear activation\n",
        "    self.theta_layer = tf.keras.layers.Dense(theta_size, activation=\"linear\", name=\"theta\")\n",
        "\n",
        "  def call(self, inputs): # the call method is what runs when the layer is called \n",
        "    x = inputs \n",
        "    for layer in self.hidden: # pass inputs through each hidden layer \n",
        "      x = layer(x)\n",
        "    theta = self.theta_layer(x) \n",
        "    # Output the backcast and forecast from theta\n",
        "    backcast, forecast = theta[:, :self.input_size], theta[:, -self.horizon:]\n",
        "    return backcast, forecast"
      ]
    },
    {
      "cell_type": "markdown",
      "metadata": {
        "id": "ReXvsaxCKmOF"
      },
      "source": [
        "### Setting up NBEATS BLOCK:\n",
        "\n",
        "Setting up the `NBeatsBlock` custom layer we see: \n",
        "* The class inherits from `tf.keras.layers.Layer` (this gives it all of the methods assosciated with `tf.keras.layers.Layer`)\n",
        "* The constructor (`def __init__(...)`) takes all of the layer hyperparameters as well as the `**kwargs` argument\n",
        "  * The `**kwargs` argument takes care of all of the hyperparameters which aren't mentioned in the constructor such as, `input_shape`, `trainable` and `name`\n",
        "* In the constructor, the block architecture layers are created:\n",
        "  * The hidden layers are created as a stack of fully connected with `n_nuerons` hidden units layers with ReLU activation\n",
        "  * The theta layer uses `theta_size` hidden units as well as linear activation\n",
        "* The `call()` method is what is run when the layer is called:\n",
        "  * It first passes the inputs (the historical Bitcoin data) through each of the hidden layers (a stack of fully connected layers with ReLU activation)\n",
        "  * After the inputs have been through each of the fully connected layers, they get passed through the theta layer where the backcast (backwards predictions, shape: `input_size`) and forecast (forward predictions, shape: `horizon`) are returned"
      ]
    },
    {
      "cell_type": "code",
      "execution_count": 105,
      "metadata": {
        "id": "l6mdJ3pSOGwG"
      },
      "outputs": [],
      "source": [
        "# Set up dummy NBeatsBlock layer to represent inputs and outputs\n",
        "dummy_nbeats_block_layer = NBeatsBlock(input_size=WINDOW_SIZE, \n",
        "                                       theta_size=WINDOW_SIZE+HORIZON, # backcast + forecast \n",
        "                                       horizon=HORIZON,\n",
        "                                       n_neurons=128,\n",
        "                                       n_layers=4)"
      ]
    },
    {
      "cell_type": "code",
      "execution_count": 106,
      "metadata": {
        "colab": {
          "base_uri": "https://localhost:8080/"
        },
        "id": "ne7XLO4gAGfm",
        "outputId": "e8ff1923-c28c-46fd-c697-7787ef1c94a2"
      },
      "outputs": [
        {
          "data": {
            "text/plain": [
              "<tf.Tensor: shape=(1, 7), dtype=int32, numpy=array([[1, 2, 3, 4, 5, 6, 7]])>"
            ]
          },
          "execution_count": 106,
          "metadata": {},
          "output_type": "execute_result"
        }
      ],
      "source": [
        "# Create dummy inputs (have to be same size as input_size)\n",
        "dummy_inputs = tf.expand_dims(tf.range(WINDOW_SIZE) + 1, axis=0) # input shape to the model has to reflect Dense layer input requirements (ndim=2)\n",
        "dummy_inputs"
      ]
    },
    {
      "cell_type": "code",
      "execution_count": 107,
      "metadata": {
        "colab": {
          "base_uri": "https://localhost:8080/"
        },
        "id": "DtAT8Onk-hX_",
        "outputId": "7c90d282-2f1f-4f64-839c-081d46305ba7"
      },
      "outputs": [
        {
          "name": "stdout",
          "output_type": "stream",
          "text": [
            "Backcast: [-0.71350193 -0.23975767  0.47376204 -0.46675813  0.3629554   1.7575645\n",
            "  1.2411225 ]\n",
            "Forecast: -0.5030393004417419\n"
          ]
        }
      ],
      "source": [
        "# Pass dummy inputs to dummy NBeatsBlock layer\n",
        "backcast, forecast = dummy_nbeats_block_layer(dummy_inputs)\n",
        "# These are the activation outputs of the theta layer (they'll be random due to no training of the model)\n",
        "print(f\"Backcast: {tf.squeeze(backcast.numpy())}\")\n",
        "print(f\"Forecast: {tf.squeeze(forecast.numpy())}\")"
      ]
    },
    {
      "cell_type": "markdown",
      "metadata": {
        "id": "QRl9Vi32WFLM"
      },
      "source": [
        "### Preparing data for the N-BEATS algorithm using `tf.data`\n",
        "\n",
        "We've got the basic building block for the N-BEATS architecture ready to go.\n",
        "\n",
        "But before we use it to replicate the entire N-BEATS generic architecture, let's create some data.\n",
        "\n",
        " the N-BEATS algorithm Univariate Function"
      ]
    },
    {
      "cell_type": "code",
      "execution_count": 108,
      "metadata": {
        "id": "s2IMhORJV3gg"
      },
      "outputs": [],
      "source": [
        "HORIZON = 1 # how far to predict forward\n",
        "WINDOW_SIZE = 7 # how far to lookback"
      ]
    },
    {
      "cell_type": "markdown",
      "metadata": {
        "id": "s7JzacrkbBFu"
      },
      "source": [
        "### csv for the normalised dataframe to be fed into NBEAT Algoritmn\n",
        "\n",
        "\n",
        "```\n",
        "# storing normalised values temporarily in \"-1.csv\" file \n",
        "```\n",
        "\n",
        "\n"
      ]
    },
    {
      "cell_type": "code",
      "execution_count": 109,
      "metadata": {
        "colab": {
          "base_uri": "https://localhost:8080/"
        },
        "id": "yE-IjPTRbOJS",
        "outputId": "a96dfdc8-c12d-4dc3-8af1-3e461cebe22a"
      },
      "outputs": [
        {
          "name": "stdout",
          "output_type": "stream",
          "text": [
            "['', 'value', 'timestamp']\n",
            "['0', '-0.041009243586330076', '1595323800']\n",
            "['1', '0.042155570513592304', '1595327400']\n",
            "['2', '0.38168791103297767', '1595331000']\n",
            "['3', '0.4578942857447129', '1595334600']\n",
            "['4', '0.15346975815906314', '1595338200']\n",
            "['5', '-0.23902552645845038', '1595341800']\n",
            "['6', '-0.4152950734249056', '1595345400']\n",
            "['7', '-0.9823756272108736', '1595349000']\n",
            "['8', '-1.3291244579301633', '1595352600']\n",
            "['9', '-1.4984206779615987', '1595356200']\n",
            "['10', '-1.8478363645696447', '1595359800']\n",
            "['11', '-1.9400557846513742', '1595363400']\n",
            "['12', '-2.0260442701333266', '1595367000']\n",
            "['13', '-1.9683907562807332', '1595370600']\n",
            "['14', '-1.7441932335539476', '1595374200']\n",
            "['15', '-1.185681951723137', '1595377800']\n",
            "['16', '-0.20879388136299076', '1595381400']\n",
            "['17', '0.053349020723264834', '1595385000']\n",
            "['18', '-0.1344851726204799', '1595388600']\n",
            "['19', '-0.208437572742202', '1595392200']\n",
            "['20', '0.02636881585540663', '1595395800']\n",
            "['21', '0.7539341469558921', '1595399400']\n",
            "['22', '-0.22643363934991179', '1595403000']\n",
            "['23', '0.022761067007016453', '1595406600']\n",
            "['24', '-0.04735530854825911', '1595410200']\n",
            "['25', '0.042782832486683055', '1595413800']\n",
            "['26', '0.28798469878389094', '1595417400']\n",
            "['27', '0.5464632793438065', '1595421000']\n",
            "['28', '0.2078291541498094', '1595424600']\n",
            "['29', '-0.14207087398176224', '1595428200']\n",
            "['30', '-0.4054553974736146', '1595431800']\n",
            "['31', '-0.9592463344562902', '1595435400']\n",
            "['32', '-1.2345230303556884', '1595439000']\n",
            "['33', '-1.543681797833173', '1595442600']\n",
            "['34', '-1.772713803267113', '1595446200']\n",
            "['35', '-1.8127702367670353', '1595449800']\n",
            "['36', '-2.015905850742316', '1595453400']\n",
            "['37', '-2.021509523369007', '1595457000']\n",
            "['38', '-1.791237881535718', '1595460600']\n",
            "['39', '-1.5956036061563432', '1595464200']\n",
            "['40', '-1.1232227377539263', '1595467800']\n",
            "['41', '-0.8408446820167804', '1595471400']\n",
            "['42', '-0.39491699932444574', '1595475000']\n",
            "['43', '-0.27697189832104424', '1595478600']\n",
            "['44', '-0.355687320925138', '1595482200']\n",
            "['45', '-0.1744552583487916', '1595485800']\n",
            "['46', '-0.19658708546577783', '1595489400']\n",
            "['47', '-0.17059144369492762', '1595493000']\n",
            "['48', '-0.05730912235857381', '1595496600']\n",
            "['49', '-0.20109404214268475', '1595500200']\n",
            "['50', '0.03213029647849054', '1595503800']\n",
            "['51', '-0.2528719375131705', '1595507400']\n",
            "['52', '-0.5412973147725304', '1595511000']\n",
            "['53', '-0.6441265932282022', '1595514600']\n",
            "['54', '-0.5943446216360214', '1595518200']\n",
            "['55', '-1.1755296372884223', '1595521800']\n",
            "['56', '-1.3348859385532472', '1595525400']\n",
            "['57', '-1.5830256140915133', '1595529000']\n",
            "['58', '-1.8990872407823591', '1595532600']\n",
            "['59', '-1.9808397229397068', '1595536200']\n",
            "['60', '-1.9818093984898775', '1595539800']\n",
            "['61', '-1.9445051761472028', '1595543400']\n",
            "['62', '-1.9028944827582688', '1595547000']\n",
            "['63', '-1.5061354047287374', '1595550600']\n",
            "['64', '-1.1685989879876482', '1595554200']\n",
            "['65', '-0.85801399352388', '1595557800']\n",
            "['66', '-0.45786055481718657', '1595561400']\n",
            "['67', '-0.21894718830082943', '1595565000']\n",
            "['68', '-0.04043954679431315', '1595568600']\n",
            "['69', '-0.15074138125536304', '1595572200']\n",
            "['70', '-0.1761385436436639', '1595575800']\n",
            "['71', '-0.09968999817016802', '1595579400']\n",
            "['72', '-0.11406442088577891', '1595583000']\n",
            "['73', '-0.043819019924646964', '1595586600']\n",
            "['74', '-0.07597512857361997', '1595590200']\n",
            "['75', '-0.2652921215816026', '1595593800']\n",
            "['76', '-0.507044047026818', '1595597400']\n",
            "['77', '-0.716125747205874', '1595601000']\n",
            "['78', '-0.7142717513740147', '1595604600']\n",
            "['79', '-1.1509016648196533', '1595608200']\n",
            "['80', '-1.2634574738707163', '1595611800']\n",
            "['81', '-1.5891860809696317', '1595615400']\n",
            "['82', '-1.7790737632727507', '1595619000']\n",
            "['83', '-1.874730221665892', '1595622600']\n",
            "['84', '-1.9296176293175293', '1595626200']\n",
            "['85', '-2.0347713500848816', '1595629800']\n",
            "['86', '-1.8692833645324753', '1595633400']\n",
            "['87', '-1.64410227121181', '1595637000']\n",
            "['88', '-1.2843337845384106', '1595640600']\n",
            "['89', '-0.6147365907801855', '1595644200']\n",
            "['90', '-0.14442409888397092', '1595647800']\n",
            "['91', '0.2640276584255823', '1595651400']\n",
            "['92', '0.33760985488280243', '1595655000']\n",
            "['93', '0.4096238964072979', '1595658600']\n",
            "['94', '0.38589513176704565', '1595662200']\n",
            "['95', '0.32325031971402424', '1595665800']\n",
            "['96', '0.272997901642022', '1595669400']\n",
            "['97', '0.2878427708374498', '1595673000']\n",
            "['98', '0.350472695343643', '1595676600']\n",
            "['99', '0.12336614596633588', '1595680200']\n",
            "['100', '-0.18892992387972196', '1595683800']\n",
            "['101', '-0.4112585632278202', '1595687400']\n",
            "['102', '-0.26517897622569836', '1595691000']\n",
            "['103', '-0.7323104956159701', '1595694600']\n",
            "['104', '-0.9865540653544002', '1595698200']\n",
            "['105', '-1.2253116088806075', '1595701800']\n",
            "['106', '-1.5061066221382007', '1595705400']\n",
            "['107', '-1.4922463160397763', '1595709000']\n",
            "['108', '-1.6277170371710705', '1595712600']\n",
            "['109', '-1.6667899000771091', '1595716200']\n",
            "['110', '-1.5902986769693677', '1595719800']\n",
            "['111', '-1.342571882729849', '1595723400']\n",
            "['112', '-1.085618779468417', '1595727000']\n",
            "['113', '-0.7474263181636953', '1595730600']\n",
            "['114', '-0.36206117597447995', '1595734200']\n",
            "['115', '0.040501067809256934', '1595737800']\n",
            "['116', '0.1707671025688996', '1595741400']\n",
            "['117', '0.22626787714991867', '1595745000']\n",
            "['118', '0.23682017034279174', '1595748600']\n",
            "['119', '0.3293254313236513', '1595752200']\n",
            "['120', '0.1845847310330783', '1595755800']\n",
            "['121', '0.23781763598037994', '1595759400']\n",
            "['122', '0.15381217173614317', '1595763000']\n",
            "['123', '0.025242324811962025', '1595766600']\n",
            "['124', '-0.12791083194049901', '1595770200']\n",
            "['125', '-0.4393086864611686', '1595773800']\n",
            "['126', '-0.36022206768945336', '1595777400']\n",
            "['127', '-0.7487810849252009', '1595781000']\n",
            "['128', '-1.0143610253228685', '1595784600']\n",
            "['129', '-1.1967195789426597', '1595788200']\n",
            "['130', '-1.4286030458460426', '1595791800']\n",
            "['131', '-1.5638464837624046', '1595795400']\n",
            "['132', '-1.6030047019369345', '1595799000']\n",
            "['133', '-1.5493718182314744', '1595802600']\n",
            "['134', '-1.2019103702706027', '1595806200']\n",
            "['135', '-0.729929480626344', '1595809800']\n",
            "['136', '0.5612803584518169', '1595813400']\n",
            "['137', '0.8036873359575406', '1595817000']\n",
            "['138', '0.4550706143626873', '1595820600']\n",
            "['139', '0.2670796055256643', '1595824200']\n",
            "['140', '0.46853193420607275', '1595827800']\n",
            "['141', '0.7398018950020419', '1595831400']\n",
            "['142', '0.3827717244421811', '1595835000']\n",
            "['143', '0.507790395195922', '1595838600']\n",
            "['144', '0.4502083415681111', '1595842200']\n",
            "['145', '0.6264203233534925', '1595845800']\n",
            "['146', '0.8071382693126569', '1595849400']\n",
            "['147', '0.8806202229545576', '1595853000']\n",
            "['148', '0.4083693724611209', '1595856600']\n",
            "['149', '0.08129890114129382', '1595860200']\n",
            "['150', '-0.08591504734023497', '1595863800']\n",
            "['151', '-0.6606249726248504', '1595867400']\n",
            "['152', '-0.9571789504532117', '1595871000']\n",
            "['153', '-1.283406786622481', '1595874600']\n",
            "['154', '-1.5192543109950474', '1595878200']\n",
            "['155', '-1.6526010754453089', '1595881800']\n",
            "['156', '-1.698775298189104', '1595885400']\n",
            "['157', '-1.5166023426531192', '1595889000']\n",
            "['158', '-1.3925106698153036', '1595892600']\n",
            "['159', '-0.7771448391450925', '1595896200']\n",
            "['160', '0.37661125756406283', '1595899800']\n",
            "['161', '0.9536605127071782', '1595903400']\n",
            "['162', '0.5321037441750238', '1595907000']\n",
            "['163', '0.46975866806484134', '1595910600']\n",
            "['164', '0.5100145946922787', '1595914200']\n",
            "['165', '0.7690926471378631', '1595917800']\n",
            "['166', '0.45675389965755964', '1595921400']\n",
            "['167', '0.5155904772315519', '1595925000']\n",
            "['168', '0.44323501463309584', '1595928600']\n",
            "['169', '0.6547830850702646', '1595932200']\n",
            "['170', '0.8575762854684654', '1595935800']\n",
            "['171', '0.9470157043055343', '1595939400']\n",
            "['172', '0.5121534389201398', '1595943000']\n",
            "['173', '0.18020679976203224', '1595946600']\n",
            "['174', '0.01797025443722731', '1595950200']\n",
            "['175', '-0.5348083293610363', '1595953800']\n",
            "['176', '-0.8910832050450739', '1595957400']\n",
            "['177', '-1.1331199788862956', '1595961000']\n",
            "['178', '-1.3745284982513026', '1595964600']\n",
            "['179', '-1.5115683668184456', '1595968200']\n",
            "['180', '-1.6529147064318521', '1595971800']\n",
            "['181', '-1.5766229764516344', '1595975400']\n",
            "['182', '-1.154524301214876', '1595979000']\n",
            "['183', '-0.8398174412855313', '1595982600']\n",
            "['184', '0.24370714950619626', '1595986200']\n",
            "['185', '0.8036019806890493', '1595989800']\n",
            "['186', '0.4148573653694911', '1595993400']\n",
            "['187', '0.37933567863389295', '1595997000']\n",
            "['188', '0.366957179696578', '1596000600']\n",
            "['189', '0.648666288329516', '1596004200']\n",
            "['190', '0.2933045155176948', '1596007800']\n",
            "['191', '0.47593302998666837', '1596011400']\n",
            "['192', '0.42238649405281903', '1596015000']\n",
            "['193', '0.600837562881381', '1596018600']\n",
            "['194', '0.7896553268190097', '1596022200']\n",
            "['195', '0.836485594126428', '1596025800']\n",
            "['196', '0.48172329320028917', '1596029400']\n",
            "['197', '0.09043985489471154', '1596033000']\n",
            "['198', '-0.11683052708673519', '1596036600']\n",
            "['199', '-0.6147078081896485', '1596040200']\n",
            "['200', '-0.9837026038849571', '1596043800']\n",
            "['201', '-1.2534034172450776', '1596047400']\n",
            "['202', '-1.536096096471895', '1596051000']\n",
            "['203', '-1.6081240330400992', '1596054600']\n",
            "['204', '-1.6026474008130216', '1596058200']\n",
            "['205', '-1.6479382957782567', '1596061800']\n",
            "['206', '-1.403049067964468', '1596065400']\n",
            "['207', '-0.8349839510814965', '1596069000']\n",
            "['208', '0.27097319527318464', '1596072600']\n",
            "['209', '0.8111737870066184', '1596076200']\n",
            "['210', '0.5936359602283093', '1596079800']\n",
            "['211', '0.5369947995601324', '1596083400']\n",
            "['212', '0.44340572517007387', '1596087000']\n",
            "['213', '0.6490791696282545', '1596090600']\n",
            "['214', '0.3691248065149805', '1596094200']\n",
            "['215', '0.4436201058444215', '1596097800']\n",
            "['216', '0.5106279616216608', '1596101400']\n",
            "['217', '0.648223631937112', '1596105000']\n",
            "['218', '0.9207491091823821', '1596108600']\n",
            "['219', '0.9145737547574311', '1596112200']\n",
            "['220', '0.5150634580737806', '1596115800']\n",
            "['221', '0.1633799018320127', '1596119400']\n",
            "['222', '-0.056738433063437406', '1596123000']\n",
            "['223', '-0.6577020509306248', '1596126600']\n",
            "['224', '-0.8544340347629027', '1596130200']\n",
            "['225', '-1.276119828700918', '1596133800']\n",
            "['226', '-1.4285315856212555', '1596137400']\n",
            "['227', '-1.5654712113730835', '1596141000']\n",
            "['228', '-1.6123878264521172', '1596144600']\n",
            "['229', '-1.6929572448880659', '1596148200']\n",
            "['230', '-1.4343933090596634', '1596151800']\n",
            "['231', '-0.8245309082008234', '1596155400']\n",
            "['232', '0.25388923903457633', '1596159000']\n",
            "['233', '0.7435664593437058', '1596162600']\n",
            "['234', '0.6784413819888628', '1596166200']\n",
            "['235', '0.5401608845192426', '1596169800']\n",
            "['236', '0.5654151264579783', '1596173400']\n",
            "['237', '0.9218894952695353', '1596177000']\n",
            "['238', '0.45565519870152793', '1596180600']\n",
            "['239', '0.6356039547411604', '1596184200']\n",
            "['240', '0.5256872114914363', '1596187800']\n",
            "['241', '0.7139918513149979', '1596191400']\n",
            "['242', '1.0274431947950418', '1596195000']\n",
            "['243', '1.2009029654231755', '1596198600']\n",
            "['244', '0.7940908232711296', '1596202200']\n",
            "['245', '0.4660794589916686', '1596205800']\n",
            "['246', '0.27583546806775633', '1596209400']\n",
            "['247', '-0.13863482817347408', '1596213000']\n",
            "['248', '-0.13809292146887459', '1596216600']\n",
            "['249', '-0.8614361442884594', '1596220200']\n",
            "['250', '-1.275107475516497', '1596223800']\n",
            "['251', '-1.4835331311319253', '1596227400']\n",
            "['252', '-1.495782604663384', '1596231000']\n",
            "['253', '-1.5507841501740491', '1596234600']\n",
            "['254', '-1.267264715846626', '1596238200']\n",
            "['255', '-1.0389889977916331', '1596241800']\n",
            "['256', '-0.6305223529352517', '1596245400']\n",
            "['257', '-0.24696852894364096', '1596249000']\n",
            "['258', '0.27252745516220506', '1596252600']\n",
            "['259', '0.5382066458720682', '1596256200']\n",
            "['260', '0.6801802474585655', '1596259800']\n",
            "['261', '0.8009212297565843', '1596263400']\n",
            "['262', '0.7310321374162411', '1596267000']\n",
            "['263', '0.7220053215218515', '1596270600']\n",
            "['264', '0.7769780844419798', '1596274200']\n",
            "['265', '0.7700196450537927', '1596277800']\n",
            "['266', '0.6893638788462289', '1596281400']\n",
            "['267', '0.4871413677431646', '1596285000']\n",
            "['268', '0.19538018749083588', '1596288600']\n",
            "['269', '0.03568147264893088', '1596292200']\n",
            "['270', '0.08490664998967948', '1596295800']\n",
            "['271', '-0.5037638242086797', '1596299400']\n",
            "['272', '-0.7846025076036378', '1596303000']\n",
            "['273', '-1.0582683709360612', '1596306600']\n",
            "['274', '-1.2461740245045885', '1596310200']\n",
            "['275', '-1.3854519876117926', '1596313800']\n",
            "['276', '-1.471597288587019', '1596317400']\n",
            "['277', '-1.390999087560529', '1596321000']\n",
            "['278', '-1.268861653369892', '1596324600']\n",
            "['279', '-1.0799436466169439', '1596328200']\n",
            "['280', '-0.7436905364125728', '1596331800']\n",
            "['281', '-0.35990843670291023', '1596335400']\n",
            "['282', '0.418650712301692', '1596339000']\n",
            "['283', '0.3616532430127263', '1596342600']\n",
            "['284', '0.6389685403246661', '1596346200']\n",
            "['285', '0.527740700450806', '1596349800']\n",
            "['286', '0.460475786364978', '1596353400']\n",
            "['287', '0.6255498981155172', '1596357000']\n",
            "['288', '0.6354322517010539', '1596360600']\n",
            "['289', '0.5857644179679014', '1596364200']\n",
            "['290', '0.5634192026796824', '1596367800']\n",
            "['291', '0.3289254525654929', '1596371400']\n",
            "['292', '0.06582676997277526', '1596375000']\n",
            "['293', '-0.07497766293603174', '1596378600']\n",
            "['294', '-0.07636021978495015', '1596382200']\n",
            "['295', '-0.6137093500489363', '1596385800']\n",
            "['296', '-0.9492359479680211', '1596389400']\n",
            "['297', '-1.0599943338651792', '1596393000']\n",
            "['298', '-1.6250362862386056', '1596396600']\n",
            "['299', '-1.182060307831038', '1596400200']\n",
            "['300', '-1.6961937975688346', '1596403800']\n",
            "['301', '-1.244376601350688', '1596407400']\n",
            "['302', '-1.2508933768495951', '1596411000']\n",
            "['303', '-0.5533463026733456', '1596414600']\n",
            "['304', '0.6559532462510789', '1596418200']\n",
            "['305', '1.1607036114736926', '1596421800']\n",
            "['306', '0.7070463144673955', '1596425400']\n",
            "['307', '0.6085522896485197', '1596429000']\n",
            "['308', '0.5992406253581194', '1596432600']\n",
            "['309', '1.0454531564464602', '1596436200']\n",
            "['310', '0.6308975049367386', '1596439800']\n",
            "['311', '0.8365282717606737', '1596443400']\n",
            "['312', '0.7305616909364241', '1596447000']\n",
            "['313', '1.0321774346868766', '1596450600']\n",
            "['314', '1.2082038183884471', '1596454200']\n",
            "['315', '1.1651668980132253', '1596457800']\n",
            "['316', '0.9669660095604183', '1596461400']\n",
            "['317', '0.36377719969375916', '1596465000']\n",
            "['318', '0.28561757883797356', '1596468600']\n",
            "['319', '6.130620317145437', '1596472200']\n",
            "['320', '5.669405108865271', '1596475800']\n",
            "['321', '5.173710342127588', '1596479400']\n",
            "['322', '-0.7915331569044121', '1596483000']\n",
            "['323', '-1.519910355558675', '1596486600']\n",
            "['324', '-1.484574266906883', '1596490200']\n",
            "['325', '-1.4943275950865635', '1596493800']\n",
            "['326', '-1.2883693022323721', '1596497400']\n",
            "['327', '-0.6908278351297686', '1596501000']\n",
            "['328', '1.3751180309271371', '1596504600']\n",
            "['329', '1.0815167498866578', '1596508200']\n",
            "['330', '0.5390482885195067', '1596511800']\n",
            "['331', '0.6028334866596814', '1596515400']\n",
            "['332', '0.7777909444988813', '1596519000']\n",
            "['333', '0.7380908196197521', '1596522600']\n",
            "['334', '0.5967732625968826', '1596526200']\n",
            "['335', '0.5749411714227263', '1596529800']\n",
            "['336', '0.5952904629326446', '1596533400']\n",
            "['337', '0.7411993393977839', '1596537000']\n",
            "['338', '1.0633211901514332', '1596540600']\n",
            "['339', '1.0902587173850458', '1596544200']\n",
            "['340', '0.7567856084253353', '1596547800']\n",
            "['341', '0.3234924904757848', '1596551400']\n",
            "['342', '0.24938327486079342', '1596555000']\n",
            "['343', '-0.3775055170555856', '1596558600']\n",
            "['344', '-0.7094660512573974', '1596562200']\n",
            "['345', '-0.15861292351577105', '1596565800']\n",
            "['346', '-1.4563395380928479', '1596569400']\n",
            "['347', '-1.120584664455707', '1596573000']\n",
            "['348', '-1.5287515733692538', '1596576600']\n",
            "['349', '-1.3117844358860813', '1596580200']\n",
            "['350', '-1.20349341275016', '1596583800']\n",
            "['351', '-0.5719845188009743', '1596587400']\n",
            "['352', '0.3070506837570955', '1596591000']\n",
            "['353', '0.8016487345449945', '1596594600']\n",
            "['354', '0.6210727165322757', '1596598200']\n",
            "['355', '0.4506926830916368', '1596601800']\n",
            "['356', '0.6173081521906117', '1596605400']\n",
            "['357', '0.9657680582921911', '1596609000']\n",
            "['358', '0.510885019930254', '1596612600']\n",
            "['359', '0.519126765855155', '1596616200']\n",
            "['360', '0.6883088480275713', '1596619800']\n",
            "['361', '0.7286650174703236', '1596623400']\n",
            "['362', '1.0854669123121325', '1596627000']\n",
            "['363', '1.0326766637572304', '1596630600']\n",
            "['364', '0.7979973155592347', '1596634200']\n",
            "['365', '0.37467190646371673', '1596637800']\n",
            "['366', '0.2886268483038144', '1596641400']\n",
            "['367', '-0.5418531165208387', '1596645000']\n",
            "['368', '-0.8088731789484941', '1596648600']\n",
            "['369', '-0.836238475027678', '1596652200']\n",
            "['370', '-1.2767193005865913', '1596655800']\n",
            "['371', '-1.2598487325192067', '1596659400']\n",
            "['372', '-1.6589749304946508', '1596663000']\n",
            "['373', '-1.397259797253971', '1596666600']\n",
            "['374', '-1.1559505282011597', '1596670200']\n",
            "['375', '-0.6409892908596334', '1596673800']\n",
            "['376', '0.3220235858552602', '1596677400']\n",
            "['377', '0.9137182170662884', '1596681000']\n",
            "['378', '0.4963676767650781', '1596684600']\n",
            "['379', '0.4755628263221709', '1596688200']\n",
            "['380', '0.4844318342201671', '1596691800']\n",
            "['381', '0.8561649460290146', '1596695400']\n",
            "['382', '0.49735223986207705', '1596699000']\n",
            "['383', '0.6401525965491844', '1596702600']\n",
            "['384', '0.48351972385107017', '1596706200']\n",
            "['385', '0.7513387512919184', '1596709800']\n",
            "['386', '1.04428398776877', '1596713400']\n",
            "['387', '1.095649001840508', '1596717000']\n",
            "['388', '0.724786315269636', '1596720600']\n",
            "['389', '0.21883799877879068', '1596724200']\n",
            "['390', '0.21601432739676507', '1596727800']\n",
            "['391', '-0.402089819386985', '1596731400']\n",
            "['392', '-0.7059009800432527', '1596735000']\n",
            "['393', '-0.2828038466657867', '1596738600']\n",
            "['394', '-1.3672703229202765', '1596742200']\n",
            "['395', '-1.1628375073645643', '1596745800']\n",
            "['396', '-1.7433376958628004', '1596749400']\n",
            "['397', '-1.0514379644506067', '1596753000']\n",
            "['398', '-1.2100389708396084', '1596756600']\n",
            "['399', '-0.46188217746743937', '1596760200']\n",
            "['400', '0.3160913946951937', '1596763800']\n",
            "['401', '0.9983380407430312', '1596767400']\n",
            "['402', '0.5472761394007035', '1596771000']\n",
            "['403', '0.7072745901854519', '1596774600']\n",
            "['404', '0.7304763356679373', '1596778200']\n",
            "['405', '1.0614810893632871', '1596781800']\n",
            "['406', '0.6067121888603736', '1596785400']\n",
            "['407', '0.8277872967654143', '1596789000']\n",
            "['408', '0.7048796801521171', '1596792600']\n",
            "['409', '0.8824891063332451', '1596796200']\n",
            "['410', '1.1644681758153566', '1596799800']\n",
            "['411', '1.1313989642941626', '1596803400']\n",
            "['412', '0.8545243383683834', '1596807000']\n",
            "['413', '0.30812060212258574', '1596810600']\n",
            "['414', '0.4118054182694091', '1596814200']\n",
            "['415', '-0.39614373318321433', '1596817800']\n",
            "['416', '-0.5510506429522107', '1596821400']\n",
            "['417', '-0.8703061446895797', '1596825000']\n",
            "['418', '-0.7914478016359208', '1596828600']\n",
            "['419', '-1.2037494785556293', '1596832200']\n",
            "['420', '-1.2346232731710078', '1596835800']\n",
            "['421', '-1.3426294479109229', '1596839400']\n",
            "['422', '-1.0015845326336388', '1596843000']\n",
            "['423', '-0.8359109489974261', '1596846600']\n",
            "['424', '-0.2637239666488779', '1596850200']\n",
            "['425', '-0.14456701933353602', '1596853800']\n",
            "['426', '0.3974309955537982', '1596857400']\n",
            "['427', '0.4999188529355139', '1596861000']\n",
            "['428', '0.6291437519202032', '1596864600']\n",
            "['429', '0.712436598922858', '1596868200']\n",
            "['430', '0.6675744653063227', '1596871800']\n",
            "['431', '0.8351735049991726', '1596875400']\n",
            "['432', '0.6769436947777968', '1596879000']\n",
            "['433', '0.8208278648741032', '1596882600']\n",
            "['434', '0.7052925614508602', '1596886200']\n",
            "['435', '0.6694284611381776', '1596889800']\n",
            "['436', '0.23476668138342197', '1596893400']\n",
            "['437', '0.10428626594943166', '1596897000']\n",
            "['438', '-0.048781535534538116', '1596900600']\n",
            "['439', '-0.41352643286153756', '1596904200']\n",
            "['440', '-0.8104423263843428', '1596907800']\n",
            "['441', '-0.8785915607518547', '1596911400']\n",
            "['442', '-0.8245170131571147', '1596915000']\n",
            "['443', '-1.2304448350274768', '1596918600']\n",
            "['444', '-1.509258812053602', '1596922200']\n",
            "['445', '-1.4046460054877294', '1596925800']\n",
            "['446', '-1.2145449350133868', '1596929400']\n",
            "['447', '-0.9289005515018068', '1596933000']\n",
            "['448', '-0.6342581346863743', '1596936600']\n",
            "['449', '-0.20512955983665074', '1596940200']\n",
            "['450', '0.14735196891518595', '1596943800']\n",
            "['451', '0.5049955064044332', '1596947400']\n",
            "['452', '0.49070643895731364', '1596951000']\n",
            "['453', '0.5420148803510974', '1596954600']\n",
            "['454', '0.671296352013741', '1596958200']\n",
            "['455', '0.7288506155541344', '1596961800']\n",
            "['456', '0.7026971657868865', '1596965400']\n",
            "['457', '0.6203878893781112', '1596969000']\n",
            "['458', '0.5914832209567396', '1596972600']\n",
            "['459', '0.4091673449711942', '1596976200']\n",
            "['460', '0.2919636437999026', '1596979800']\n",
            "['461', '-0.06757656715544065', '1596983400']\n",
            "['462', '-0.002692668059238768', '1596987000']\n",
            "['463', '-0.5533611902201738', '1596990600']\n",
            "['464', '-0.7496515101631762', '1596994200']\n",
            "['465', '-0.9696844897901395', '1596997800']\n",
            "['466', '-0.7329099675016479', '1597001400']\n",
            "['467', '-1.264683215226361', '1597005000']\n",
            "['468', '-1.3807892079447404', '1597008600']\n",
            "['469', '-1.3776380105324584', '1597012200']\n",
            "['470', '-1.270558833708473', '1597015800']\n",
            "['471', '-0.9288290912770243', '1597019400']\n",
            "['472', '-0.6117699989485947', '1597023000']\n",
            "['473', '-0.2354316726537644', '1597026600']\n",
            "['474', '0.2865167866664858', '1597030200']\n",
            "['475', '0.49355889292987615', '1597033800']\n",
            "['476', '0.5274121819174347', '1597037400']\n",
            "['477', '0.470243009588367', '1597041000']\n",
            "['478', '0.4919331728160777', '1597044600']\n",
            "['479', '0.6821057035152074', '1597048200']\n",
            "['480', '0.5669693863469988', '1597051800']\n",
            "['481', '0.6580494128446943', '1597055400']\n",
            "['482', '0.5275263197764628', '1597059000']\n",
            "['483', '0.4126470609168475', '1597062600']\n",
            "['484', '0.15040391601527242', '1597066200']\n",
            "['485', '0.057741839541143564', '1597069800']\n",
            "['486', '0.041727801668021', '1597073400']\n",
            "['487', '-0.4999426871890614', '1597077000']\n",
            "['488', '-0.7884673147606214', '1597080600']\n",
            "['489', '-0.957677187020446', '1597084200']\n",
            "['490', '-0.6122404454284117', '1597087800']\n",
            "['491', '-1.1120005049537167', '1597091400']\n",
            "['492', '-1.3230781289110687', '1597095000']\n",
            "['493', '-1.3982145852573138', '1597098600']\n",
            "['494', '-1.1359863279025668', '1597102200']\n",
            "['495', '-0.667384911388642', '1597105800']\n",
            "['496', '0.17497333079984362', '1597109400']\n",
            "['497', '0.6308697148493211', '1597113000']\n",
            "['498', '0.5903418423664623', '1597116600']\n",
            "['499', '0.678484059623104', '1597120200']\n",
            "['500', '0.8335338898416654', '1597123800']\n",
            "['501', '0.9198786839444067', '1597127400']\n",
            "['502', '0.759895120706491', '1597131000']\n",
            "['503', '0.7476307596282088', '1597134600']\n",
            "['504', '0.6547126173486061', '1597138200']\n",
            "['505', '0.6460847877092464', '1597141800']\n",
            "['506', '0.9202776701994412', '1597145400']\n",
            "['507', '0.8513592459123972', '1597149000']\n",
            "['508', '0.5198254880530329', '1597152600']\n",
            "['509', '0.19318377808189652', '1597156200']\n",
            "['510', '0.17965099801372855', '1597159800']\n",
            "['511', '-0.40122038665212917', '1597163400']\n",
            "['512', '-0.7013384431915201', '1597167000']\n",
            "['513', '-0.999902239841886', '1597170600']\n",
            "['514', '-0.5061031540671797', '1597174200']\n",
            "['515', '-1.2956423651102307', '1597177800']\n",
            "['516', '-1.4675905534835898', '1597181400']\n",
            "['517', '-1.326900258433811', '1597185000']\n",
            "['518', '-1.1355009938759173', '1597188600']\n",
            "['519', '-0.7142151786960648', '1597192200']\n",
            "['520', '0.10766573907976547', '1597195800']\n",
            "['521', '0.4654095193843322', '1597199400']\n",
            "['522', '0.4478838992564394', '1597203000']\n",
            "['523', '0.5783067495093559', '1597206600']\n",
            "['524', '0.7734705784089091', '1597210200']\n",
            "['525', '0.7587537421162183', '1597213800']\n",
            "['526', '0.5641467074680926', '1597217400']\n",
            "['527', '0.6880666772658063', '1597221000']\n",
            "['528', '0.631468194231875', '1597224600']\n",
            "['529', '0.7275812040611247', '1597228200']\n",
            "['530', '0.9110513611775322', '1597231800']\n",
            "['531', '0.8830449080815488', '1597235400']\n",
            "['532', '0.5489018595145019', '1597239000']\n",
            "['533', '0.17263499344446315', '1597242600']\n",
            "['534', '0.34871894232710765', '1597246200']\n",
            "['535', '-0.4009633283435359', '1597249800']\n",
            "['536', '-0.5088553652244272', '1597253400']\n",
            "['537', '-0.8388477657353559', '1597257000']\n",
            "['538', '-0.017452181986175312', '1597260600']\n",
            "['539', '-1.195465054996478', '1597264200']\n",
            "['540', '-1.2884407624571546', '1597267800']\n",
            "['541', '-1.3006614533980718', '1597271400']\n",
            "['542', '-1.0767497715704162', '1597275000']\n",
            "['543', '-0.7403964185507257', '1597278600']\n",
            "['544', '0.02082171590667036', '1597282200']\n",
            "['545', '0.3653602421733165', '1597285800']\n",
            "['546', '0.44086789468717397', '1597289400']\n",
            "['547', '0.7444656671722181', '1597293000']\n",
            "['548', '0.6656777918402222', '1597296600']\n",
            "['549', '0.9173686435489198', '1597300200']\n",
            "['550', '0.7633023839242422', '1597303800']\n",
            "['551', '0.6229892400608152', '1597307400']\n",
            "['552', '0.7591249382838352', '1597311000']\n",
            "['553', '0.8589598348205033', '1597314600']\n",
            "['554', '0.9681490732818172', '1597318200']\n",
            "['555', '0.8442291034841036', '1597321800']\n",
            "['556', '0.5577718599156267', '1597325400']\n",
            "['557', '0.25122238314582', '1597329000']\n",
            "['558', '0.2760637437858127', '1597332600']\n",
            "['559', '-1.1084493287832764', '1597336200']\n",
            "['560', '-0.38383669447068197', '1597339800']\n",
            "['561', '-2.041844919835221', '1597343400']\n",
            "['562', '-0.9124160671488719', '1597347000']\n",
            "['563', '-1.9021808730135628', '1597350600']\n",
            "['564', '-2.102906689408685', '1597354200']\n",
            "['565', '-1.8334192642197928', '1597357800']\n",
            "['566', '-1.860912593201709', '1597361400']\n",
            "['567', '-1.3168184117207549', '1597365000']\n",
            "['568', '-0.7183648342490545', '1597368600']\n",
            "['569', '-0.07862808941866756', '1597372200']\n",
            "['570', '-0.10325506938431708', '1597375800']\n",
            "['571', '0.3644908094384651', '1597379400']\n",
            "['572', '0.5125960953125392', '1597383000']\n",
            "['573', '0.6023491451361558', '1597386600']\n",
            "['574', '0.3264015171263062', '1597390200']\n",
            "['575', '0.5366384909393437', '1597393800']\n",
            "['576', '0.5603672555796004', '1597397400']\n",
            "['577', '0.7057630079306771', '1597401000']\n",
            "['578', '0.7242731911555734', '1597404600']\n",
            "['579', '0.7924224255230855', '1597408200']\n",
            "['580', '0.3157499736212332', '1597411800']\n",
            "['581', '0.43094286346739163', '1597415400']\n",
            "['582', '0.029805854166818788', '1597419000']\n",
            "['583', '-0.438995055474621', '1597422600']\n",
            "['584', '-0.9522730075212749', '1597426200']\n",
            "['585', '-1.0854480689314343', '1597429800']\n",
            "['586', '-0.20167862648153437', '1597433400']\n",
            "['587', '-1.4162969996366341', '1597437000']\n",
            "['588', '-1.3130965250133366', '1597440600']\n",
            "['589', '-1.5525517982342931', '1597444200']\n",
            "['590', '-1.1551803457785037', '1597447800']\n",
            "['591', '-1.0946317003190977', '1597451400']\n",
            "['592', '-0.6594131263129145', '1597455000']\n",
            "['593', '-0.4155660267772031', '1597458600']\n",
            "['594', '0.04865745846567117', '1597462200']\n",
            "['595', '0.3329470752157502', '1597465800']\n",
            "['596', '0.4604321162276084', '1597469400']\n",
            "['597', '0.39477902721187463', '1597473000']\n",
            "['598', '0.5261576579712531', '1597476600']\n",
            "['599', '0.6156824320768133', '1597480200']\n",
            "['600', '0.6128587606947832', '1597483800']\n",
            "['601', '0.6324090871915089', '1597487400']\n",
            "['602', '0.673906635224543', '1597491000']\n",
            "['603', '0.331135757018141', '1597494600']\n",
            "['604', '0.2018393978086691', '1597498200']\n",
            "['605', '-0.08349036221323924', '1597501800']\n",
            "['606', '0.0907961635155003', '1597505400']\n",
            "['607', '-0.5253825272116078', '1597509000']\n",
            "['608', '-0.7132593981895983', '1597512600']\n",
            "['609', '-1.0107820590650107', '1597516200']\n",
            "['610', '-0.1571152363047095', '1597519800']\n",
            "['611', '-1.2728971710638535', '1597523400']\n",
            "['612', '-1.4935861952544445', '1597527000']\n",
            "['613', '-1.4138157418316886', '1597530600']\n",
            "['614', '-1.4169103665660163', '1597534200']\n",
            "['615', '-1.1280433254173763', '1597537800']\n",
            "['616', '-0.8309623284312392', '1597541400']\n",
            "['617', '-0.38326600517554554', '1597545000']\n",
            "['618', '-0.1660418093837796', '1597548600']\n",
            "['619', '0.28829932227355803', '1597552200']\n",
            "['620', '0.487170150333706', '1597555800']\n",
            "['621', '0.5269129528470763', '1597559400']\n",
            "['622', '0.4879969054343117', '1597563000']\n",
            "['623', '0.5667133205415295', '1597566600']\n",
            "['624', '0.5279679836657428', '1597570200']\n",
            "['625', '0.606227847336848', '1597573800']\n",
            "['626', '0.5567307241406688', '1597577400']\n",
            "['627', '0.4113210767458879', '1597581000']\n",
            "['628', '0.24119810161383776', '1597584600']\n",
            "['629', '-0.03857165591874961', '1597588200']\n",
            "['630', '0.02545670548630967', '1597591800']\n",
            "['631', '-0.6198559218833505', '1597595400']\n",
            "['632', '-0.9005516848287435', '1597599000']\n",
            "['633', '-1.0812984133784447', '1597602600']\n",
            "['634', '-0.16920789434288974', '1597606200']\n",
            "['635', '-1.319199426710381', '1597609800']\n",
            "['636', '-1.3697089030909766', '1597613400']\n",
            "['637', '-1.385623690651899', '1597617000']\n",
            "['638', '-1.0950455741209648', '1597620600']\n",
            "['639', '-0.4703244090229883', '1597624200']\n",
            "['640', '0.6375145232509651', '1597627800']\n",
            "['641', '0.9946012664887802', '1597631400']\n",
            "['642', '0.883600709829857', '1597635000']\n",
            "['643', '0.8980039151360047', '1597638600']\n",
            "['644', '0.8128421847546625', '1597642200']\n",
            "['645', '1.1929450753911568', '1597645800']\n",
            "['646', '0.7152751578517208', '1597649400']\n",
            "['647', '0.8395514362702187', '1597653000']\n",
            "['648', '0.7432101507229171', '1597656600']\n",
            "['649', '1.174265174132402', '1597660200']\n",
            "['650', '1.5987875419930275', '1597663800']\n",
            "['651', '1.4402441007851041', '1597667400']\n",
            "['652', '1.119220950987491', '1597671000']\n",
            "['653', '1.3183200547656908', '1597674600']\n",
            "['654', '0.4482402078772281', '1597678200']\n",
            "['655', '-0.1937783016305804', '1597681800']\n",
            "['656', '-0.5936597944818568', '1597685400']\n",
            "['657', '-0.5264951232113437', '1597689000']\n",
            "['658', '0.33468693318857684', '1597692600']\n",
            "['659', '-1.1071809097933907', '1597696200']\n",
            "['660', '-1.2150153814932039', '1597699800']\n",
            "['661', '-1.1203851713281918', '1597703400']\n",
            "['662', '-0.8866050309587085', '1597707000']\n",
            "['663', '-0.30078601822978773', '1597710600']\n",
            "['664', '0.7892990181982209', '1597714200']\n",
            "['665', '1.2592552014736422', '1597717800']\n",
            "['666', '0.9926619153884341', '1597721400']\n",
            "['667', '1.0634065454199244', '1597725000']\n",
            "['668', '1.0082481844159807', '1597728600']\n",
            "['669', '1.3471403604216952', '1597732200']\n",
            "['670', '1.0448119994296607', '1597735800']\n",
            "['671', '1.1353779093101743', '1597739400']\n",
            "['672', '1.1046470351443607', '1597743000']\n",
            "['673', '1.2644459928015899', '1597746600']\n",
            "['674', '1.610624134225743', '1597750200']\n",
            "['675', '1.4094993315755864', '1597753800']\n",
            "['676', '1.1496947668447113', '1597757400']\n",
            "['677', '0.7272963556651185', '1597761000']\n",
            "['678', '0.6081533033934853', '1597764600']\n",
            "['679', '0.06336039971465787', '1597768200']\n",
            "['680', '-0.4354299842604764', '1597771800']\n",
            "['681', '-0.17900489265993966', '1597775400']\n",
            "['682', '-0.07914121353273013', '1597779000']\n",
            "['683', '-0.7335660120652756', '1597782600']\n",
            "['684', '-1.0960430397585486', '1597786200']\n",
            "['685', '-1.0938903004869833', '1597789800']\n",
            "['686', '-0.6563472841691238', '1597793400']\n",
            "['687', '-0.4635793578060249', '1597797000']\n",
            "['688', '1.0226940673563742', '1597800600']\n",
            "['689', '1.2816430943961068', '1597804200']\n",
            "['690', '0.983435606366525', '1597807800']\n",
            "['691', '1.003813680466985', '1597811400']\n",
            "['692', '1.0340880031966857', '1597815000']\n",
            "['693', '1.3696284961594747', '1597818600']\n",
            "['694', '0.9412115460482047', '1597822200']\n",
            "['695', '1.0311650815024602', '1597825800']\n",
            "['696', '1.1257516215301069', '1597829400']\n",
            "['697', '1.0628646387153204', '1597833000']\n",
            "['698', '1.6586374652545604', '1597836600']\n",
            "['699', '1.3582345603191677', '1597840200']\n",
            "['700', '1.16107381513819', '1597843800']\n",
            "['701', '0.4554418105303043', '1597847400']\n",
            "['702', '0.6331226969362148', '1597851000']\n",
            "['703', '0.07430671664695442', '1597854600']\n",
            "['704', '-0.5915924104787739', '1597858200']\n",
            "['705', '-0.37140162285541717', '1597861800']\n",
            "['706', '0.3568902205303546', '1597865400']\n",
            "['707', '-0.9280311187669555', '1597869000']\n",
            "['708', '-0.8977419084904266', '1597872600']\n",
            "['709', '-1.3858003562076076', '1597876200']\n",
            "['710', '-0.647676776895523', '1597879800']\n",
            "['711', '-0.3656123521449203', '1597883400']\n",
            "['712', '0.8716221896507049', '1597887000']\n",
            "['713', '1.5199728690767382', '1597890600']\n",
            "['714', '0.9215758642829878', '1597894200']\n",
            "['715', '1.120446692343131', '1597897800']\n",
            "['716', '0.8210134629579094', '1597901400']\n",
            "['717', '1.254763132343568', '1597905000']\n",
            "['718', '0.9325559263214366', '1597908600']\n",
            "['719', '1.113673851038755', '1597912200']\n",
            "['720', '1.0392926895683374', '1597915800']\n",
            "['721', '0.9767342252869313', '1597919400']\n",
            "['722', '1.7849106599544826', '1597923000']\n",
            "['723', '1.7912706199601203', '1597926600']\n",
            "['724', '1.1651956806037669', '1597930200']\n",
            "['725', '0.8573053321161679', '1597933800']\n",
            "['726', '0.3672003429614626', '1597937400']\n",
            "['727', '0.16161225377177316', '1597941000']\n",
            "['728', '-0.4628667405644429', '1597944600']\n",
            "['729', '-0.5274360161709821', '1597948200']\n",
            "['730', '0.49328793957757866', '1597951800']\n",
            "['731', '-1.4414658863068788', '1597955400']\n",
            "['732', '-1.0893128760884179', '1597959000']\n",
            "['733', '-1.1765697805602562', '1597962600']\n",
            "['734', '-0.8332014154744242', '1597966200']\n",
            "['735', '-0.16015328836108275', '1597969800']\n",
            "['736', '0.5418153872235825', '1597973400']\n",
            "['737', '1.3433470134894943', '1597977000']\n",
            "['738', '0.851715554533186', '1597980600']\n",
            "['739', '1.0789362417695167', '1597984200']\n",
            "['740', '1.182649840506877', '1597987800']\n",
            "['741', '1.231761872491726', '1597991400']\n",
            "['742', '1.1142584353776', '1597995000']\n",
            "['743', '0.9984948562363005', '1597998600']\n",
            "['744', '1.2772085904471064', '1598002200']\n",
            "['745', '1.2669272506065354', '1598005800']\n",
            "['746', '1.7856520597866015', '1598009400']\n",
            "['747', '1.7344438612081372', '1598013000']\n",
            "['748', '1.1572526781185761', '1598016600']\n",
            "['749', '1.0940798544046595', '1598020200']\n",
            "['750', '0.7029969017297253', '1598023800']\n",
            "['751', '0.3003909878086188', '1598027400']\n",
            "['752', '-0.0672341535783561', '1598031000']\n",
            "['753', '-0.2907041715167316', '1598034600']\n",
            "['754', '1.0974315374475805', '1598038200']\n",
            "['755', '-0.84455267368049', '1598041800']\n",
            "['756', '-0.7783427904133196', '1598045400']\n",
            "['757', '-0.7003687676413447', '1598049000']\n",
            "['758', '-0.7713118982972259', '1598052600']\n",
            "['759', '-0.165528685269717', '1598056200']\n",
            "['760', '0.12195480652688508', '1598059800']\n",
            "['761', '0.7260835168500587', '1598063400']\n",
            "['762', '0.9945585888545345', '1598067000']\n",
            "['763', '1.2620639853088396', '1598070600']\n",
            "['764', '1.4231889271370326', '1598074200']\n",
            "['765', '1.278277516309477', '1598077800']\n",
            "['766', '1.4135636318600848', '1598081400']\n",
            "['767', '1.3812933853520837', '1598085000']\n",
            "['768', '1.4310604693974407', '1598088600']\n",
            "['769', '1.4286367767735735', '1598092200']\n",
            "['770', '1.4230182166000502', '1598095800']\n",
            "['771', '1.355667947245731', '1598099400']\n",
            "['772', '0.9559422773846088', '1598103000']\n",
            "['773', '0.7321298458691488', '1598106600']\n",
            "['774', '0.7576848162538474', '1598110200']\n",
            "['775', '0.25068047644122055', '1598113800']\n",
            "['776', '-0.06816115149428577', '1598117400']\n",
            "['777', '-0.06619301780340277', '1598121000']\n",
            "['778', '0.9450624581614839', '1598124600']\n",
            "['779', '-0.6624789684567052', '1598128200']\n",
            "['780', '-0.8366096711952995', '1598131800']\n",
            "['781', '-0.8146058769810411', '1598135400']\n",
            "['782', '-0.6984433115847073', '1598139000']\n",
            "['783', '-0.5427225492556854', '1598142600']\n",
            "['784', '-0.06188654675713929', '1598146200']\n",
            "['785', '0.31962867582192533', '1598149800']\n",
            "['786', '0.7529217937714712', '1598153400']\n",
            "['787', '1.089773383358396', '1598157000']\n",
            "['788', '1.1199335682290685', '1598160600']\n",
            "['789', '1.1663648492814571', '1598164200']\n",
            "['790', '1.1648820496172192', '1598167800']\n",
            "['791', '1.2299505542941123', '1598171400']\n",
            "['792', '1.3141991818032337', '1598175000']\n",
            "['793', '1.2987409456784238', '1598178600']\n",
            "['794', '1.103706142184727', '1598182200']\n",
            "['795', '1.0024450186617753', '1598185800']\n",
            "['796', '0.719225320277191', '1598189400']\n",
            "['797', '0.47610473302677037', '1598193000']\n",
            "['798', '0.505622768377524', '1598196600']\n",
            "['799', '-0.03754441518750048', '1598200200']\n",
            "['800', '-0.22194157021983757', '1598203800']\n",
            "['801', '-0.3597377261659277', '1598207400']\n",
            "['802', '0.74235461303177', '1598211000']\n",
            "['803', '-0.8467629781331336', '1598214600']\n",
            "['804', '-0.9496210391793468', '1598218200']\n",
            "['805', '-0.8736290451419636', '1598221800']\n",
            "['806', '-0.6530104886730311', '1598225400']\n",
            "['807', '-0.04698510488376163', '1598229000']\n",
            "['808', '1.2894292813880235', '1598232600']\n",
            "['809', '1.6092118022831683', '1598236200']\n",
            "['810', '1.3460277644219547', '1598239800']\n",
            "['811', '1.3163092434405623', '1598243400']\n",
            "['812', '1.3449866286470016', '1598247000']\n",
            "['813', '1.6040497935457576', '1598250600']\n",
            "['814', '1.165594666858801', '1598254200']\n",
            "['815', '1.3849577068784282', '1598257800']\n",
            "['816', '1.4318445468638008', '1598261400']\n",
            "['817', '1.632085029232278', '1598265000']\n",
            "['818', '1.9091730433292808', '1598268600']\n",
            "['819', '2.0149838011633805', '1598272200']\n",
            "['820', '1.6212756777308115', '1598275800']\n",
            "['821', '1.1530881350187494', '1598279400']\n",
            "['822', '1.0158209832366785', '1598283000']\n",
            "['823', '0.37808016218458745', '1598286600']\n",
            "['824', '-0.1239894521055612', '1598290200']\n",
            "['825', '-0.4780530308338312', '1598293800']\n",
            "['826', '0.9849759712118368', '1598297400']\n",
            "['827', '-0.27941047849174416', '1598301000']\n",
            "['828', '-0.4451981999869849', '1598304600']\n",
            "['829', '-0.49577814408924353', '1598308200']\n",
            "['830', '-0.5115648987474292', '1598311800']\n",
            "['831', '0.14683884480112336', '1598315400']\n",
            "['832', '1.4143189267359124', '1598319000']\n",
            "['833', '1.9451800640915284', '1598322600']\n",
            "['834', '1.7797486512170766', '1598326200']\n",
            "['835', '1.9130090678957272', '1598329800']\n",
            "['836', '2.02664769785287', '1598333400']\n",
            "['837', '2.4008471799198303', '1598337000']\n",
            "['838', '2.0145123621804397', '1598340600']\n",
            "['839', '2.049649950207836', '1598344200']\n"
          ]
        }
      ],
      "source": [
        "import csv\n",
        "# read\n",
        "with open('./content/-1.csv', 'r') as file:\n",
        "    reader = csv.reader(file)\n",
        "    for row in reader:\n",
        "        print(row)\n",
        "# writing values\n",
        "\n",
        "value_column_list=value_column.tolist()\n",
        "f = open(\"./content/-1.csv\", \"w\")\n",
        "f.truncate()\n",
        "with open('./content/-1.csv', 'w', newline='') as file:\n",
        "    writer = csv.writer(file)\n",
        "    writer.writerow([\"\", \"value\", \"timestamp\"]) \n",
        "    for i in range(len(value_column_list)):\n",
        "        writer.writerow([i, value_column_list[i],int(timesteps[i])])\n",
        "\n",
        "   \n",
        "# empty the truncated file\n",
        "\n",
        "# f = open(\"-1.csv\", \"w\")\n",
        "# f.truncate()\n"
      ]
    },
    {
      "cell_type": "markdown",
      "metadata": {
        "id": "3SRRJO3tb8Eh"
      },
      "source": [
        "### importing the df from normalised csv temp file named -1.csv"
      ]
    },
    {
      "cell_type": "code",
      "execution_count": 110,
      "metadata": {
        "colab": {
          "base_uri": "https://localhost:8080/",
          "height": 238
        },
        "id": "R3HbnmOacrMm",
        "outputId": "fe9b3b51-0d7c-4f24-bf50-016a4b2079f3"
      },
      "outputs": [
        {
          "data": {
            "text/html": [
              "<div>\n",
              "<style scoped>\n",
              "    .dataframe tbody tr th:only-of-type {\n",
              "        vertical-align: middle;\n",
              "    }\n",
              "\n",
              "    .dataframe tbody tr th {\n",
              "        vertical-align: top;\n",
              "    }\n",
              "\n",
              "    .dataframe thead th {\n",
              "        text-align: right;\n",
              "    }\n",
              "</style>\n",
              "<table border=\"1\" class=\"dataframe\">\n",
              "  <thead>\n",
              "    <tr style=\"text-align: right;\">\n",
              "      <th></th>\n",
              "      <th>Unnamed: 0</th>\n",
              "      <th>value</th>\n",
              "    </tr>\n",
              "    <tr>\n",
              "      <th>timestamp</th>\n",
              "      <th></th>\n",
              "      <th></th>\n",
              "    </tr>\n",
              "  </thead>\n",
              "  <tbody>\n",
              "    <tr>\n",
              "      <th>1595323800</th>\n",
              "      <td>0</td>\n",
              "      <td>0.0</td>\n",
              "    </tr>\n",
              "    <tr>\n",
              "      <th>1595327400</th>\n",
              "      <td>1</td>\n",
              "      <td>0.0</td>\n",
              "    </tr>\n",
              "    <tr>\n",
              "      <th>1595331000</th>\n",
              "      <td>2</td>\n",
              "      <td>0.0</td>\n",
              "    </tr>\n",
              "    <tr>\n",
              "      <th>1595334600</th>\n",
              "      <td>3</td>\n",
              "      <td>0.0</td>\n",
              "    </tr>\n",
              "    <tr>\n",
              "      <th>1595338200</th>\n",
              "      <td>4</td>\n",
              "      <td>0.0</td>\n",
              "    </tr>\n",
              "  </tbody>\n",
              "</table>\n",
              "</div>"
            ],
            "text/plain": [
              "            Unnamed: 0 value\n",
              "timestamp                   \n",
              "1595323800           0   0.0\n",
              "1595327400           1   0.0\n",
              "1595331000           2   0.0\n",
              "1595334600           3   0.0\n",
              "1595338200           4   0.0"
            ]
          },
          "execution_count": 110,
          "metadata": {},
          "output_type": "execute_result"
        }
      ],
      "source": [
        "# Import with pandas \n",
        "import pandas as pd\n",
        "# Parse value timestamo from the 1.csv file\n",
        "df_temp = pd.read_csv(\"./content/-1.csv\", \n",
        "                 parse_dates=[\"value\"], \n",
        "                 index_col=[\"timestamp\"]) # parse the timestamp column (tell pandas column 1 is a datetime)\n",
        "df_temp.head()"
      ]
    },
    {
      "cell_type": "code",
      "execution_count": 111,
      "metadata": {
        "colab": {
          "base_uri": "https://localhost:8080/",
          "height": 238
        },
        "id": "mLfJzWXPc3GF",
        "outputId": "de4a942c-e5dc-4250-d363-0b99a031ebfc"
      },
      "outputs": [
        {
          "data": {
            "text/html": [
              "<div>\n",
              "<style scoped>\n",
              "    .dataframe tbody tr th:only-of-type {\n",
              "        vertical-align: middle;\n",
              "    }\n",
              "\n",
              "    .dataframe tbody tr th {\n",
              "        vertical-align: top;\n",
              "    }\n",
              "\n",
              "    .dataframe thead th {\n",
              "        text-align: right;\n",
              "    }\n",
              "</style>\n",
              "<table border=\"1\" class=\"dataframe\">\n",
              "  <thead>\n",
              "    <tr style=\"text-align: right;\">\n",
              "      <th></th>\n",
              "      <th>Unnamed: 0</th>\n",
              "      <th>value</th>\n",
              "    </tr>\n",
              "    <tr>\n",
              "      <th>timestamp</th>\n",
              "      <th></th>\n",
              "      <th></th>\n",
              "    </tr>\n",
              "  </thead>\n",
              "  <tbody>\n",
              "    <tr>\n",
              "      <th>1595323800</th>\n",
              "      <td>0</td>\n",
              "      <td>0.0</td>\n",
              "    </tr>\n",
              "    <tr>\n",
              "      <th>1595327400</th>\n",
              "      <td>1</td>\n",
              "      <td>0.0</td>\n",
              "    </tr>\n",
              "    <tr>\n",
              "      <th>1595331000</th>\n",
              "      <td>2</td>\n",
              "      <td>0.0</td>\n",
              "    </tr>\n",
              "    <tr>\n",
              "      <th>1595334600</th>\n",
              "      <td>3</td>\n",
              "      <td>0.0</td>\n",
              "    </tr>\n",
              "    <tr>\n",
              "      <th>1595338200</th>\n",
              "      <td>4</td>\n",
              "      <td>0.0</td>\n",
              "    </tr>\n",
              "  </tbody>\n",
              "</table>\n",
              "</div>"
            ],
            "text/plain": [
              "            Unnamed: 0 value\n",
              "timestamp                   \n",
              "1595323800           0   0.0\n",
              "1595327400           1   0.0\n",
              "1595331000           2   0.0\n",
              "1595334600           3   0.0\n",
              "1595338200           4   0.0"
            ]
          },
          "execution_count": 111,
          "metadata": {},
          "output_type": "execute_result"
        }
      ],
      "source": [
        "# renaming value df to price\n",
        "value_df_temp = pd.DataFrame(df_temp[\"value\"]).rename(columns={\"value\": \"Price\"})\n",
        "value_df_temp['Price'] = value_df_temp['Price'].astype(float)\n",
        "value_df_temp.head()\n",
        "df_temp.head()"
      ]
    },
    {
      "cell_type": "markdown",
      "metadata": {
        "id": "U7Soxx6vcGiR"
      },
      "source": []
    },
    {
      "cell_type": "code",
      "execution_count": 112,
      "metadata": {
        "colab": {
          "base_uri": "https://localhost:8080/"
        },
        "id": "WsUh9T2uvpA1",
        "outputId": "3914e44c-85a7-45dd-d340-03c871e81fd8"
      },
      "outputs": [
        {
          "name": "stdout",
          "output_type": "stream",
          "text": [
            "            Price\n",
            "timestamp        \n",
            "1595323800    0.0\n",
            "1595327400    0.0\n",
            "1595331000    0.0\n",
            "1595334600    0.0\n",
            "1595338200    0.0\n",
            "      timestamp  Price\n",
            "0  1.595324e+09    0.0\n",
            "1  1.595327e+09    0.0\n",
            "2  1.595331e+09    0.0\n",
            "3  1.595335e+09    0.0\n",
            "4  1.595338e+09    0.0\n"
          ]
        }
      ],
      "source": [
        "# Create NBEATS data inputs (NBEATS works with univariate time series)\n",
        "print(value_df_temp.head())\n",
        "# timesteps = numpy.array(timesteps)\n",
        "# print(type(value_column))\n",
        "value_column_list=value_column.tolist()\n",
        "# print(value_column_list)\n",
        "# print(timesteps)\n",
        "# print(type(value_column))\n",
        "# print(value_df)\n",
        "\n",
        "  \n",
        "# Calling DataFrame constructor after zipping\n",
        "# both lists, with columns specified\n",
        "normalised_df = pd.DataFrame(list(zip(timesteps, value_column_list)),\n",
        "               columns =['timestamp', 'Price'])\n",
        "print(normalised_df.head())\n"
      ]
    },
    {
      "cell_type": "code",
      "execution_count": 113,
      "metadata": {
        "colab": {
          "base_uri": "https://localhost:8080/",
          "height": 238
        },
        "id": "iqAnqJvVvsgb",
        "outputId": "0843aab7-face-4518-889f-3470ac6e0c9e"
      },
      "outputs": [
        {
          "data": {
            "text/html": [
              "<div>\n",
              "<style scoped>\n",
              "    .dataframe tbody tr th:only-of-type {\n",
              "        vertical-align: middle;\n",
              "    }\n",
              "\n",
              "    .dataframe tbody tr th {\n",
              "        vertical-align: top;\n",
              "    }\n",
              "\n",
              "    .dataframe thead th {\n",
              "        text-align: right;\n",
              "    }\n",
              "</style>\n",
              "<table border=\"1\" class=\"dataframe\">\n",
              "  <thead>\n",
              "    <tr style=\"text-align: right;\">\n",
              "      <th></th>\n",
              "      <th>Price</th>\n",
              "      <th>Price+1</th>\n",
              "      <th>Price+2</th>\n",
              "      <th>Price+3</th>\n",
              "      <th>Price+4</th>\n",
              "      <th>Price+5</th>\n",
              "      <th>Price+6</th>\n",
              "      <th>Price+7</th>\n",
              "    </tr>\n",
              "    <tr>\n",
              "      <th>timestamp</th>\n",
              "      <th></th>\n",
              "      <th></th>\n",
              "      <th></th>\n",
              "      <th></th>\n",
              "      <th></th>\n",
              "      <th></th>\n",
              "      <th></th>\n",
              "      <th></th>\n",
              "    </tr>\n",
              "  </thead>\n",
              "  <tbody>\n",
              "    <tr>\n",
              "      <th>1595349000</th>\n",
              "      <td>0.0</td>\n",
              "      <td>0.0</td>\n",
              "      <td>0.0</td>\n",
              "      <td>0.0</td>\n",
              "      <td>0.0</td>\n",
              "      <td>0.0</td>\n",
              "      <td>0.0</td>\n",
              "      <td>0.0</td>\n",
              "    </tr>\n",
              "    <tr>\n",
              "      <th>1595352600</th>\n",
              "      <td>0.0</td>\n",
              "      <td>0.0</td>\n",
              "      <td>0.0</td>\n",
              "      <td>0.0</td>\n",
              "      <td>0.0</td>\n",
              "      <td>0.0</td>\n",
              "      <td>0.0</td>\n",
              "      <td>0.0</td>\n",
              "    </tr>\n",
              "    <tr>\n",
              "      <th>1595356200</th>\n",
              "      <td>0.0</td>\n",
              "      <td>0.0</td>\n",
              "      <td>0.0</td>\n",
              "      <td>0.0</td>\n",
              "      <td>0.0</td>\n",
              "      <td>0.0</td>\n",
              "      <td>0.0</td>\n",
              "      <td>0.0</td>\n",
              "    </tr>\n",
              "    <tr>\n",
              "      <th>1595359800</th>\n",
              "      <td>0.0</td>\n",
              "      <td>0.0</td>\n",
              "      <td>0.0</td>\n",
              "      <td>0.0</td>\n",
              "      <td>0.0</td>\n",
              "      <td>0.0</td>\n",
              "      <td>0.0</td>\n",
              "      <td>0.0</td>\n",
              "    </tr>\n",
              "    <tr>\n",
              "      <th>1595363400</th>\n",
              "      <td>0.0</td>\n",
              "      <td>0.0</td>\n",
              "      <td>0.0</td>\n",
              "      <td>0.0</td>\n",
              "      <td>0.0</td>\n",
              "      <td>0.0</td>\n",
              "      <td>0.0</td>\n",
              "      <td>0.0</td>\n",
              "    </tr>\n",
              "  </tbody>\n",
              "</table>\n",
              "</div>"
            ],
            "text/plain": [
              "            Price  Price+1  Price+2  Price+3  Price+4  Price+5  Price+6  \\\n",
              "timestamp                                                                 \n",
              "1595349000    0.0      0.0      0.0      0.0      0.0      0.0      0.0   \n",
              "1595352600    0.0      0.0      0.0      0.0      0.0      0.0      0.0   \n",
              "1595356200    0.0      0.0      0.0      0.0      0.0      0.0      0.0   \n",
              "1595359800    0.0      0.0      0.0      0.0      0.0      0.0      0.0   \n",
              "1595363400    0.0      0.0      0.0      0.0      0.0      0.0      0.0   \n",
              "\n",
              "            Price+7  \n",
              "timestamp            \n",
              "1595349000      0.0  \n",
              "1595352600      0.0  \n",
              "1595356200      0.0  \n",
              "1595359800      0.0  \n",
              "1595363400      0.0  "
            ]
          },
          "execution_count": 113,
          "metadata": {},
          "output_type": "execute_result"
        }
      ],
      "source": [
        "# Add windowed columns\n",
        "value_df_nbeats = value_df_temp.copy()   # commenting this line and uncommenting this line will implement standard NBEAt Algorithmn\n",
        "# value_df_nbeats = value_df.copy()    #uncommenting and commenting the above line will unimplement the ReVIN\n",
        "for i in range(WINDOW_SIZE):\n",
        "  value_df_nbeats[f\"Price+{i+1}\"] = value_df_nbeats[\"Price\"].shift(periods=i+1)\n",
        "value_df_nbeats.dropna().head()"
      ]
    },
    {
      "cell_type": "code",
      "execution_count": 114,
      "metadata": {
        "colab": {
          "base_uri": "https://localhost:8080/"
        },
        "id": "2tOweM-6wRBH",
        "outputId": "ae47ae00-7470-4c70-8cee-0bfe7f10e3db"
      },
      "outputs": [
        {
          "name": "stdout",
          "output_type": "stream",
          "text": [
            "            Price+1  Price+2  Price+3  Price+4  Price+5  Price+6  Price+7\n",
            "timestamp                                                                \n",
            "1597595400      0.0      0.0      0.0      0.0      0.0      0.0      0.0\n",
            "1597599000      0.0      0.0      0.0      0.0      0.0      0.0      0.0\n",
            "1597602600      0.0      0.0      0.0      0.0      0.0      0.0      0.0\n",
            "1597606200      0.0      0.0      0.0      0.0      0.0      0.0      0.0\n",
            "1597609800      0.0      0.0      0.0      0.0      0.0      0.0      0.0\n",
            "...             ...      ...      ...      ...      ...      ...      ...\n",
            "1598329800      0.0      0.0      0.0      0.0      0.0      0.0      0.0\n",
            "1598333400      0.0      0.0      0.0      0.0      0.0      0.0      0.0\n",
            "1598337000      0.0      0.0      0.0      0.0      0.0      0.0      0.0\n",
            "1598340600      0.0      0.0      0.0      0.0      0.0      0.0      0.0\n",
            "1598344200      0.0      0.0      0.0      0.0      0.0      0.0      0.0\n",
            "\n",
            "[209 rows x 7 columns]\n"
          ]
        }
      ],
      "source": [
        "# Make features and labels\n",
        "X = value_df_nbeats.dropna().drop(\"Price\", axis=1)\n",
        "y = value_df_nbeats.dropna()[\"Price\"]\n",
        "\n",
        "# Make train and test sets\n",
        "split_size = int(len(X) * 0.75)\n",
        "X_train, y_train = X[:split_size], y[:split_size]\n",
        "X_test, y_test = X[split_size:], y[split_size:]\n",
        "len(X_train), len(y_train), len(X_test), len(y_test)\n",
        "print(X_test)"
      ]
    },
    {
      "cell_type": "markdown",
      "metadata": {
        "id": "gihkBWc8YiIt"
      },
      "source": [
        "Train and test sets ready to go!\n",
        "\n",
        "Now let's convert them into TensorFlow `tf.data.Dataset`'s to ensure they run as fast as possible whilst training.\n",
        "\n",
        "We'll do this by:\n",
        "1. Turning the arrays in tensor Datasets using [`tf.data.Dataset.from_tensor_slices()`](https://www.tensorflow.org/api_docs/python/tf/data/Dataset#from_tensor_slices)\n",
        "  * Note: `from_tensor_slices()` works best when your data fits in memory, for extremely large datasets, you'll want to look into using the [`TFRecord` format](https://www.tensorflow.org/tutorials/load_data/tfrecord)\n",
        "2. Combine the labels and features tensors into a Dataset using [`tf.data.Dataset.zip()`](https://www.tensorflow.org/api_docs/python/tf/data/Dataset#zip)\n",
        "3. Batch and prefetch the Datasets using [`batch()`](https://www.tensorflow.org/api_docs/python/tf/data/Dataset#batch) and [`prefetch()`](https://www.tensorflow.org/api_docs/python/tf/data/Dataset#prefetch)\n",
        "  * Batching and prefetching ensures the loading time from CPU (preparing data) to GPU (computing on data) is as small as possible \n",
        "\n",
        "> 📖 **Resource:** For more on building highly performant TensorFlow data pipelines, I'd recommend reading through the [*Better performance with the tf.data API*](https://www.tensorflow.org/guide/data_performance) guide."
      ]
    },
    {
      "cell_type": "code",
      "execution_count": 115,
      "metadata": {
        "colab": {
          "base_uri": "https://localhost:8080/"
        },
        "id": "BxCwT-b1v6cw",
        "outputId": "db5f55a7-9a01-4456-f2c6-1d88e4e87391"
      },
      "outputs": [
        {
          "data": {
            "text/plain": [
              "(<PrefetchDataset element_spec=(TensorSpec(shape=(None, 7), dtype=tf.float64, name=None), TensorSpec(shape=(None,), dtype=tf.float64, name=None))>,\n",
              " <PrefetchDataset element_spec=(TensorSpec(shape=(None, 7), dtype=tf.float64, name=None), TensorSpec(shape=(None,), dtype=tf.float64, name=None))>)"
            ]
          },
          "execution_count": 115,
          "metadata": {},
          "output_type": "execute_result"
        }
      ],
      "source": [
        "# 1. Turn train and test arrays into tensor Datasets\n",
        "train_features_dataset = tf.data.Dataset.from_tensor_slices(X_train)\n",
        "train_labels_dataset = tf.data.Dataset.from_tensor_slices(y_train)\n",
        "\n",
        "test_features_dataset = tf.data.Dataset.from_tensor_slices(X_test)\n",
        "test_labels_dataset = tf.data.Dataset.from_tensor_slices(y_test)\n",
        "\n",
        "# 2. Combine features & labels\n",
        "train_dataset = tf.data.Dataset.zip((train_features_dataset, train_labels_dataset))\n",
        "test_dataset = tf.data.Dataset.zip((test_features_dataset, test_labels_dataset))\n",
        "\n",
        "# 3. Batch and prefetch for optimal performance\n",
        "BATCH_SIZE = 1024 # taken from Appendix D in N-BEATS paper\n",
        "train_dataset = train_dataset.batch(BATCH_SIZE).prefetch(tf.data.AUTOTUNE)\n",
        "test_dataset = test_dataset.batch(BATCH_SIZE).prefetch(tf.data.AUTOTUNE)\n",
        "\n",
        "train_dataset, test_dataset"
      ]
    },
    {
      "cell_type": "markdown",
      "metadata": {
        "id": "4niwahKFb03y"
      },
      "source": [
        "Data prepared! Notice the input shape for the features `(None, 7)`, the `None` leaves space for the batch size where as the `7` represents the `WINDOW_SIZE`.\n",
        "\n",
        "Time to get create the N-BEATS architecture. "
      ]
    },
    {
      "cell_type": "markdown",
      "metadata": {
        "id": "aQSC8sjxYM1N"
      },
      "source": [
        "### Setting up hyperparameters for N-BEATS algorithm\n",
        "\n",
        "\n",
        "hyperparameters from the Paper\n",
        "> 📖 **Resource:** The following hyperparameters are taken from Figure 1 and Table 18/Appendix D of the [N-BEATS paper](https://arxiv.org/pdf/1905.10437.pdf).\n",
        "\n",
        "![table  from N-BEATS paper](https://raw.githubusercontent.com/tambeanuj123/tambeanuj123/main/hyperparameters.png)\n",
        "*Table from [N-BEATS paper](https://arxiv.org/pdf/1905.10437.pdf) describing the hyperparameters used for the different variants of N-BEATS. We're using N-BEATS-G which stands for the generic version of N-BEATS.*\n",
        "\n",
        ">  **Note:** capping the parameter and runnning epochs =50 rather than 5000 suggested in paper experiments due to lack of time you can change it in N_EPOCHS = int \n",
        "variable \n",
        "\n"
      ]
    },
    {
      "cell_type": "markdown",
      "metadata": {
        "id": "d4PMmwBCYX2K"
      },
      "source": []
    },
    {
      "cell_type": "code",
      "execution_count": 116,
      "metadata": {
        "colab": {
          "base_uri": "https://localhost:8080/"
        },
        "id": "wK9Ix_zOesPO",
        "outputId": "3d486a00-5059-4dc6-dfce-34531ebb3c45"
      },
      "outputs": [
        {
          "data": {
            "text/plain": [
              "(7, 8)"
            ]
          },
          "execution_count": 116,
          "metadata": {},
          "output_type": "execute_result"
        }
      ],
      "source": [
        "# Values from N-BEATS paper Figure 1 and Table 18/Appendix D\n",
        "N_EPOCHS = 500 # called \"Iterations\" in Table 18\n",
        "N_NEURONS = 512 # called \"Width\" in Table 18\n",
        "N_LAYERS = 4\n",
        "N_STACKS = 30\n",
        "\n",
        "INPUT_SIZE = WINDOW_SIZE * HORIZON # called \"Lookback\" in Table 18\n",
        "THETA_SIZE = INPUT_SIZE + HORIZON\n",
        "\n",
        "INPUT_SIZE, THETA_SIZE"
      ]
    },
    {
      "cell_type": "markdown",
      "metadata": {
        "id": "4PuEm0xiMIdI"
      },
      "source": [
        "### Getting ready for residual connections\n",
        "\n",
        "Beautiful! Hyperparameters ready, now before we create the N-BEATS model, there are two layers to go through which play a large roll in the architecture.\n",
        "\n",
        "They're what make N-BEATS **double residual stacking** (section 3.2 of the [N-BEATS paper](https://arxiv.org/pdf/1905.10437.pdf)) possible:\n",
        "* [`tf.keras.layers.subtract(inputs)`](https://www.tensorflow.org/api_docs/python/tf/keras/layers/subtract) - subtracts list of input tensors from each other\n",
        "* [`tf.keras.layers.add(inputs)`](https://www.tensorflow.org/api_docs/python/tf/keras/layers/add) - adds list of input tensors to each other\n",
        "\n",
        "Let's try them out."
      ]
    },
    {
      "cell_type": "code",
      "execution_count": 117,
      "metadata": {
        "colab": {
          "base_uri": "https://localhost:8080/"
        },
        "id": "iZ_BEvNB--8J",
        "outputId": "bbf53d3b-cd76-4c92-b876-f7b1c184c308"
      },
      "outputs": [
        {
          "name": "stdout",
          "output_type": "stream",
          "text": [
            "Input tensors: [10 11 12 13 14 15 16 17 18 19] & [0 1 2 3 4 5 6 7 8 9]\n",
            "Subtracted: [10 10 10 10 10 10 10 10 10 10]\n",
            "Added: [10 12 14 16 18 20 22 24 26 28]\n"
          ]
        }
      ],
      "source": [
        "# Make tensors\n",
        "tensor_1 = tf.range(10) + 10\n",
        "tensor_2 = tf.range(10)\n",
        "\n",
        "# Subtract\n",
        "subtracted = tf.keras.layers.subtract([tensor_1, tensor_2])\n",
        "\n",
        "# Add\n",
        "added = tf.keras.layers.add([tensor_1, tensor_2])\n",
        "\n",
        "print(f\"Input tensors: {tensor_1.numpy()} & {tensor_2.numpy()}\")\n",
        "print(f\"Subtracted: {subtracted.numpy()}\")\n",
        "print(f\"Added: {added.numpy()}\")"
      ]
    },
    {
      "cell_type": "markdown",
      "metadata": {
        "id": "5XXj9SLYOSVb"
      },
      "source": [
        "Both of these layer functions are straight-forward, subtract or add together their inputs.\n",
        "\n",
        "And as mentioned before, they're what powers N-BEATS double residual stacking.\n",
        "\n",
        "The power of **residual stacking** or **residual connections** was revealed in [Deep Residual Learning for Image Recognition](https://arxiv.org/abs/1512.03385) where the authors were able to build a deeper but less complex neural network (this is what introduced the popular [ResNet architecture](https://en.wikipedia.org/wiki/Residual_neural_network)) than previous attempts. \n",
        "\n",
        "This deeper neural network led to state of the art results on the ImageNet challenge in 2015 and different versions of residual connections have been present in deep learning ever since.\n",
        "\n",
        "> What is a residual connection?\n",
        "\n",
        "A **residual connection** (also called skip connections) involves a deeper neural network layer receiving the outputs as well as the inputs of a shallower neural network layer.\n",
        "\n",
        "In the case of N-BEATS, the architecture uses residual connections which:\n",
        "* Subtract the backcast outputs from a previous block from the backcast inputs to the current block\n",
        "* Add the forecast outputs from all blocks together in a stack \n",
        "\n",
        "![N-BEATS architecture double residual stacking](https://raw.githubusercontent.com/ServiceNow/N-BEATS/master/nbeats.png)\n",
        "*Annotated version of Figure 1 from the N-BEATS paper highlighting the double residual stacking (section 3.2) of the architecture. Backcast residuals of each block are subtracted from each other and used as the input to the next block where as the forecasts of each block are added together to become the stack forecast.*\n",
        "\n",
        "> What are the benefits of residual connections?\n",
        "\n",
        "In practice, residual connections have been beneficial for training deeper models (N-BEATS reaches ~150 layers, also see \"These approaches provide clear advantages in improving the trainability of deep architectures\" in section 3.2 of the [N-BEATS paper](https://arxiv.org/pdf/1905.10437.pdf)).  \n",
        "\n",
        "It's thought that they help avoid the problem of [vanishing gradients](https://en.wikipedia.org/wiki/Vanishing_gradient_problem) (patterns learned by a neural network not being passed through to deeper layers).\n",
        "\n"
      ]
    },
    {
      "cell_type": "markdown",
      "metadata": {
        "id": "5_B4LTaqBL9v"
      },
      "source": [
        "### Building, compiling and fitting the N-BEATS algorithm \n",
        "\n",
        "Okay, we've finally got all of the pieces of the puzzle ready for building and training the N-BEATS algorithm.\n",
        "\n",
        "We'll do so by going through the following:\n",
        "\n",
        "1. Setup an instance of the N-BEATS block layer using `NBeatsBlock` (this'll be the initial block used for the network, the rest will be created as part of stacks)\n",
        "2. Create an input layer for the N-BEATS stack (we'll be using the [Keras Functional API](https://www.tensorflow.org/guide/keras/functional) for this)\n",
        "3. Make the initial backcast and forecasts for the model with the layer created in (1)\n",
        "4. Use a for loop to create stacks of block layers\n",
        "5. Use the NBeatsBlock class within the for loop created in (4) to create blocks which return backcasts and block-level forecasts\n",
        "6. Create the double residual stacking using subtract and add layers\n",
        "7. Put the model inputs and outputs together using [`tf.keras.Model()`](https://www.tensorflow.org/api_docs/python/tf/keras/Model)\n",
        "8. Compile the model with MAE loss (the paper uses multiple losses but we'll use MAE to keep it inline with our other models) and Adam optimizer with default settings as per section 5.2 of [N-BEATS paper](https://arxiv.org/pdf/1905.10437.pdf))\n",
        "9. Fit the N-BEATS model for 5000 epochs and since it's fitting for so many epochs, we'll use a couple of callbacks:\n",
        "  * [`tf.keras.callbacks.EarlyStopping()`](https://www.tensorflow.org/api_docs/python/tf/keras/callbacks/EarlyStopping) - stop the model from training if it doesn't improve validation loss for 200 epochs and restore the best performing weights using `restore_best_weights=True` (this'll prevent the model from training for loooongggggg period of time without improvement)\n",
        "  * [`tf.keras.callbacks.ReduceLROnPlateau()`](https://www.tensorflow.org/api_docs/python/tf/keras/callbacks/ReduceLROnPlateau) - if the model's validation loss doesn't improve for 100 epochs, reduce the learning rate by 10x to try and help it make incremental improvements (the smaller the learning rate, the smaller updates a model tries to make)\n",
        "\n",
        "Woah. A bunch of steps. But I'm sure you're up to it.\n",
        "\n",
        "Let's do it!"
      ]
    },
    {
      "cell_type": "markdown",
      "metadata": {
        "id": "bSSpv5zbO-tm"
      },
      "source": [
        "## Making forecasts with a model (on the test dataset)\n",
        "\n",
        "\n"
      ]
    },
    {
      "cell_type": "code",
      "execution_count": 118,
      "metadata": {
        "id": "Q28ADtlqO4jP"
      },
      "outputs": [],
      "source": [
        "def make_preds(model, input_data):\n",
        "  \"\"\"\n",
        "  Uses model to make predictions on input_data.\n",
        "\n",
        "  Parameters\n",
        "  ----------\n",
        "  model: trained model \n",
        "  input_data: windowed input data (same kind of data model was trained on)\n",
        "\n",
        "  Returns model predictions on input_data.\n",
        "  \"\"\"\n",
        "  forecast = model.predict(input_data)\n",
        "  return tf.squeeze(forecast) # return 1D array of predictions\n",
        "\n"
      ]
    },
    {
      "cell_type": "code",
      "execution_count": 119,
      "metadata": {
        "colab": {
          "base_uri": "https://localhost:8080/"
        },
        "id": "2U3-Wv94-hfQ",
        "outputId": "4ce36212-a8b8-42ba-f1b8-6a67a6fd4651"
      },
      "outputs": [
        {
          "name": "stdout",
          "output_type": "stream",
          "text": [
            "None\n",
            "\n",
            "Epoch 101: ReduceLROnPlateau reducing learning rate to 0.00010000000474974513.\n",
            "\n",
            "Epoch 201: ReduceLROnPlateau reducing learning rate to 1.0000000474974514e-05.\n",
            "CPU times: total: 17min 59s\n",
            "Wall time: 7min 35s\n"
          ]
        },
        {
          "data": {
            "text/plain": [
              "<keras.callbacks.History at 0x1ba31327340>"
            ]
          },
          "execution_count": 119,
          "metadata": {},
          "output_type": "execute_result"
        }
      ],
      "source": [
        " %%time\n",
        "\n",
        "tf.random.set_seed(42)\n",
        "print(tf.random.set_seed(42))\n",
        "# 1. Setup N-BEATS Block layer\n",
        "nbeats_block_layer = NBeatsBlock(input_size=INPUT_SIZE,\n",
        "                                 theta_size=THETA_SIZE,\n",
        "                                 horizon=HORIZON,\n",
        "                                 n_neurons=N_NEURONS,\n",
        "                                 n_layers=N_LAYERS,\n",
        "                                 name=\"InitialBlock\")\n",
        "\n",
        "# 2. Create input to stacks\n",
        "stack_input = tf.keras.layers.Input(shape=(INPUT_SIZE), name=\"stack_input\")\n",
        "\n",
        "# 3. Create initial backcast and forecast input (backwards predictions are referred to as residuals in the paper)\n",
        "backcast, forecast = nbeats_block_layer(stack_input)\n",
        "# Add in subtraction residual link,\n",
        "residuals = tf.keras.layers.subtract([stack_input, backcast], name=f\"subtract_00\") \n",
        "\n",
        "# 4. Create stacks of blocks\n",
        "for i, _ in enumerate(range(N_STACKS-1)): # first stack is already creted in (3)\n",
        "\n",
        "  # 5. Use the NBeatsBlock to calculate the backcast as well as block forecast\n",
        "  backcast, block_forecast = NBeatsBlock(\n",
        "      input_size=INPUT_SIZE,\n",
        "      theta_size=THETA_SIZE,\n",
        "      horizon=HORIZON,\n",
        "      n_neurons=N_NEURONS,\n",
        "      n_layers=N_LAYERS,\n",
        "      name=f\"NBeatsBlock_{i}\"\n",
        "  )(residuals) # pass it in residuals (the backcast)\n",
        "\n",
        "  # 6. Create the double residual stacking\n",
        "  residuals = tf.keras.layers.subtract([residuals, backcast], name=f\"subtract_{i}\") \n",
        "  forecast = tf.keras.layers.add([forecast, block_forecast], name=f\"add_{i}\")\n",
        "  \n",
        "# 7. Put the stack model together\n",
        "nbeat_model = tf.keras.Model(inputs=stack_input, \n",
        "                         outputs=forecast, \n",
        "                         name=\"model_N-BEATS\")\n",
        "\n",
        "# 8. Compile with MAE loss and Adam optimizer\n",
        "nbeat_model.compile(loss=\"mae\",\n",
        "                optimizer=tf.keras.optimizers.Adam(0.001),\n",
        "                metrics=[\"mae\", \"mse\"])\n",
        "\n",
        "# 9. Fit the model with EarlyStopping and ReduceLROnPlateau callbacks\n",
        "nbeat_model.fit(train_dataset,\n",
        "            epochs=N_EPOCHS,\n",
        "            validation_data=test_dataset,\n",
        "            verbose=0, # prevent large amounts of training outputs\n",
        "            # callbacks=[create_model_checkpoint(model_name=stack_model.name)] # saving model every epoch consumes far too much time\n",
        "            callbacks=[tf.keras.callbacks.EarlyStopping(monitor=\"val_loss\", patience=200, restore_best_weights=True),\n",
        "                      tf.keras.callbacks.ReduceLROnPlateau(monitor=\"val_loss\", patience=100, verbose=1)])"
      ]
    },
    {
      "cell_type": "markdown",
      "metadata": {
        "id": "j_nv-mjqHsOi"
      },
      "source": [
        "### Performance"
      ]
    },
    {
      "cell_type": "code",
      "execution_count": 120,
      "metadata": {
        "colab": {
          "base_uri": "https://localhost:8080/"
        },
        "id": "pyI7WKpbo7cR",
        "outputId": "4c250bcc-3cc2-4152-dd65-4521fb5377b8"
      },
      "outputs": [
        {
          "name": "stdout",
          "output_type": "stream",
          "text": [
            "1/1 [==============================] - 0s 310ms/step - loss: 0.0000e+00 - mae: 0.0000e+00 - mse: 0.0000e+00\n"
          ]
        },
        {
          "data": {
            "text/plain": [
              "[0.0, 0.0, 0.0]"
            ]
          },
          "execution_count": 120,
          "metadata": {},
          "output_type": "execute_result"
        }
      ],
      "source": [
        "# Evaluate N-BEATS model on the test dataset\n",
        "nbeat_model.evaluate(test_dataset)"
      ]
    },
    {
      "cell_type": "code",
      "execution_count": 121,
      "metadata": {
        "colab": {
          "base_uri": "https://localhost:8080/"
        },
        "id": "xTVDsIs31alx",
        "outputId": "0c74f5e6-1282-42bb-c193-080f5b3c44ab"
      },
      "outputs": [
        {
          "name": "stdout",
          "output_type": "stream",
          "text": [
            "1/1 [==============================] - 5s 5s/step\n"
          ]
        },
        {
          "data": {
            "text/plain": [
              "<tf.Tensor: shape=(10,), dtype=float32, numpy=array([0., 0., 0., 0., 0., 0., 0., 0., 0., 0.], dtype=float32)>"
            ]
          },
          "execution_count": 121,
          "metadata": {},
          "output_type": "execute_result"
        }
      ],
      "source": [
        "# Make predictions with N-BEATS model\n",
        "nbeat_model_preds = make_preds(nbeat_model, test_dataset)\n",
        "nbeat_model_preds[:10]"
      ]
    },
    {
      "cell_type": "markdown",
      "metadata": {
        "id": "VbnjYQ6lQJ5v"
      },
      "source": [
        "Visualising the predicted data"
      ]
    },
    {
      "cell_type": "code",
      "execution_count": 122,
      "metadata": {
        "colab": {
          "base_uri": "https://localhost:8080/",
          "height": 1000
        },
        "id": "iqJhJz6gQOxL",
        "outputId": "f1c71bc8-341a-44d9-98e3-c37a6f75185d"
      },
      "outputs": [
        {
          "name": "stdout",
          "output_type": "stream",
          "text": [
            "209\n",
            "209\n",
            "tf.Tensor(\n",
            "[0. 0. 0. 0. 0. 0. 0. 0. 0. 0. 0. 0. 0. 0. 0. 0. 0. 0. 0. 0. 0. 0. 0. 0.\n",
            " 0. 0. 0. 0. 0. 0. 0. 0. 0. 0. 0. 0. 0. 0. 0. 0. 0. 0. 0. 0. 0. 0. 0. 0.\n",
            " 0. 0. 0. 0. 0. 0. 0. 0. 0. 0. 0. 0. 0. 0. 0. 0. 0. 0. 0. 0. 0. 0. 0. 0.\n",
            " 0. 0. 0. 0. 0. 0. 0. 0. 0. 0. 0. 0. 0. 0. 0. 0. 0. 0. 0. 0. 0. 0. 0. 0.\n",
            " 0. 0. 0. 0. 0. 0. 0. 0. 0. 0. 0. 0. 0. 0. 0. 0. 0. 0. 0. 0. 0. 0. 0. 0.\n",
            " 0. 0. 0. 0. 0. 0. 0. 0. 0. 0. 0. 0. 0. 0. 0. 0. 0. 0. 0. 0. 0. 0. 0. 0.\n",
            " 0. 0. 0. 0. 0. 0. 0. 0. 0. 0. 0. 0. 0. 0. 0. 0. 0. 0. 0. 0. 0. 0. 0. 0.\n",
            " 0. 0. 0. 0. 0. 0. 0. 0. 0. 0. 0. 0. 0. 0. 0. 0. 0. 0. 0. 0. 0. 0. 0. 0.\n",
            " 0. 0. 0. 0. 0. 0. 0. 0. 0. 0. 0. 0. 0. 0. 0. 0. 0.], shape=(209,), dtype=float32)\n",
            "[1597595400.0, 1597599000.0, 1597602600.0, 1597606200.0, 1597609800.0, 1597613400.0, 1597617000.0, 1597620600.0, 1597624200.0, 1597627800.0, 1597631400.0, 1597635000.0, 1597638600.0, 1597642200.0, 1597645800.0, 1597649400.0, 1597653000.0, 1597656600.0, 1597660200.0, 1597663800.0, 1597667400.0, 1597671000.0, 1597674600.0, 1597678200.0, 1597681800.0, 1597685400.0, 1597689000.0, 1597692600.0, 1597696200.0, 1597699800.0, 1597703400.0, 1597707000.0, 1597710600.0, 1597714200.0, 1597717800.0, 1597721400.0, 1597725000.0, 1597728600.0, 1597732200.0, 1597735800.0, 1597739400.0, 1597743000.0, 1597746600.0, 1597750200.0, 1597753800.0, 1597757400.0, 1597761000.0, 1597764600.0, 1597768200.0, 1597771800.0, 1597775400.0, 1597779000.0, 1597782600.0, 1597786200.0, 1597789800.0, 1597793400.0, 1597797000.0, 1597800600.0, 1597804200.0, 1597807800.0, 1597811400.0, 1597815000.0, 1597818600.0, 1597822200.0, 1597825800.0, 1597829400.0, 1597833000.0, 1597836600.0, 1597840200.0, 1597843800.0, 1597847400.0, 1597851000.0, 1597854600.0, 1597858200.0, 1597861800.0, 1597865400.0, 1597869000.0, 1597872600.0, 1597876200.0, 1597879800.0, 1597883400.0, 1597887000.0, 1597890600.0, 1597894200.0, 1597897800.0, 1597901400.0, 1597905000.0, 1597908600.0, 1597912200.0, 1597915800.0, 1597919400.0, 1597923000.0, 1597926600.0, 1597930200.0, 1597933800.0, 1597937400.0, 1597941000.0, 1597944600.0, 1597948200.0, 1597951800.0, 1597955400.0, 1597959000.0, 1597962600.0, 1597966200.0, 1597969800.0, 1597973400.0, 1597977000.0, 1597980600.0, 1597984200.0, 1597987800.0, 1597991400.0, 1597995000.0, 1597998600.0, 1598002200.0, 1598005800.0, 1598009400.0, 1598013000.0, 1598016600.0, 1598020200.0, 1598023800.0, 1598027400.0, 1598031000.0, 1598034600.0, 1598038200.0, 1598041800.0, 1598045400.0, 1598049000.0, 1598052600.0, 1598056200.0, 1598059800.0, 1598063400.0, 1598067000.0, 1598070600.0, 1598074200.0, 1598077800.0, 1598081400.0, 1598085000.0, 1598088600.0, 1598092200.0, 1598095800.0, 1598099400.0, 1598103000.0, 1598106600.0, 1598110200.0, 1598113800.0, 1598117400.0, 1598121000.0, 1598124600.0, 1598128200.0, 1598131800.0, 1598135400.0, 1598139000.0, 1598142600.0, 1598146200.0, 1598149800.0, 1598153400.0, 1598157000.0, 1598160600.0, 1598164200.0, 1598167800.0, 1598171400.0, 1598175000.0, 1598178600.0, 1598182200.0, 1598185800.0, 1598189400.0, 1598193000.0, 1598196600.0, 1598200200.0, 1598203800.0, 1598207400.0, 1598211000.0, 1598214600.0, 1598218200.0, 1598221800.0, 1598225400.0, 1598229000.0, 1598232600.0, 1598236200.0, 1598239800.0, 1598243400.0, 1598247000.0, 1598250600.0, 1598254200.0, 1598257800.0, 1598261400.0, 1598265000.0, 1598268600.0, 1598272200.0, 1598275800.0, 1598279400.0, 1598283000.0, 1598286600.0, 1598290200.0, 1598293800.0, 1598297400.0, 1598301000.0, 1598304600.0, 1598308200.0, 1598311800.0, 1598315400.0, 1598319000.0, 1598322600.0, 1598326200.0, 1598329800.0, 1598333400.0, 1598337000.0, 1598340600.0, 1598344200.0]\n"
          ]
        },
        {
          "data": {
            "image/png": "[encoded data removed]",
            "text/plain": [
              "<Figure size 1000x700 with 1 Axes>"
            ]
          },
          "metadata": {},
          "output_type": "display_data"
        }
      ],
      "source": [
        "\n",
        "print(len(X_test))\n",
        "print(len(nbeat_model_preds))\n",
        "print(nbeat_model_preds)\n",
        "plt.figure(figsize=(10, 7))\n",
        "X_testdata = timesteps[split_size+WINDOW_SIZE:]  # adding window size cause the window size decreases the prediction \n",
        "print(X_testdata)\n",
        "plt.plot(X_testdata, nbeat_model_preds, label=\"prediction data\")\n",
        "plt.plot(X_testdata, y_test , label=\"Test data\")\n",
        "plt.xlabel(\"timestamp\")\n",
        "plt.ylabel(\"value\")\n",
        "plt.legend(fontsize=14)\n",
        "plt.savefig('img'+str(file_number)+'_prediction.png')\n",
        "plt.show()\n"
      ]
    },
    {
      "cell_type": "markdown",
      "metadata": {
        "id": "sEnOkR1rhppO"
      },
      "source": [
        "Reverse Instance NOrmalisation"
      ]
    },
    {
      "cell_type": "code",
      "execution_count": 123,
      "metadata": {
        "colab": {
          "base_uri": "https://localhost:8080/"
        },
        "id": "Kr_TwE-zhpHd",
        "outputId": "838ed813-078b-4c95-989e-65cd28a42373"
      },
      "outputs": [
        {
          "name": "stdout",
          "output_type": "stream",
          "text": [
            "tensor([0., 0., 0., 0., 0., 0., 0., 0., 0., 0., 0., 0., 0., 0., 0., 0., 0., 0., 0., 0., 0., 0., 0., 0.,\n",
            "        0., 0., 0., 0., 0., 0., 0., 0., 0., 0., 0., 0., 0., 0., 0., 0., 0., 0., 0., 0., 0., 0., 0., 0.,\n",
            "        0., 0., 0., 0., 0., 0., 0., 0., 0., 0., 0., 0., 0., 0., 0., 0., 0., 0., 0., 0., 0., 0., 0., 0.,\n",
            "        0., 0., 0., 0., 0., 0., 0., 0., 0., 0., 0., 0., 0., 0., 0., 0., 0., 0., 0., 0., 0., 0., 0., 0.,\n",
            "        0., 0., 0., 0., 0., 0., 0., 0., 0., 0., 0., 0., 0., 0., 0., 0., 0., 0., 0., 0., 0., 0., 0., 0.,\n",
            "        0., 0., 0., 0., 0., 0., 0., 0., 0., 0., 0., 0., 0., 0., 0., 0., 0., 0., 0., 0., 0., 0., 0., 0.,\n",
            "        0., 0., 0., 0., 0., 0., 0., 0., 0., 0., 0., 0., 0., 0., 0., 0., 0., 0., 0., 0., 0., 0., 0., 0.,\n",
            "        0., 0., 0., 0., 0., 0., 0., 0., 0., 0., 0., 0., 0., 0., 0., 0., 0., 0., 0., 0., 0., 0., 0., 0.,\n",
            "        0., 0., 0., 0., 0., 0., 0., 0., 0., 0., 0., 0., 0., 0., 0., 0., 0.])\n",
            "[0. 0. 0. 0. 0. 0. 0. 0. 0. 0. 0. 0. 0. 0. 0. 0. 0. 0. 0. 0. 0. 0. 0. 0.\n",
            " 0. 0. 0. 0. 0. 0. 0. 0. 0. 0. 0. 0. 0. 0. 0. 0. 0. 0. 0. 0. 0. 0. 0. 0.\n",
            " 0. 0. 0. 0. 0. 0. 0. 0. 0. 0. 0. 0. 0. 0. 0. 0. 0. 0. 0. 0. 0. 0. 0. 0.\n",
            " 0. 0. 0. 0. 0. 0. 0. 0. 0. 0. 0. 0. 0. 0. 0. 0. 0. 0. 0. 0. 0. 0. 0. 0.\n",
            " 0. 0. 0. 0. 0. 0. 0. 0. 0. 0. 0. 0. 0. 0. 0. 0. 0. 0. 0. 0. 0. 0. 0. 0.\n",
            " 0. 0. 0. 0. 0. 0. 0. 0. 0. 0. 0. 0. 0. 0. 0. 0. 0. 0. 0. 0. 0. 0. 0. 0.\n",
            " 0. 0. 0. 0. 0. 0. 0. 0. 0. 0. 0. 0. 0. 0. 0. 0. 0. 0. 0. 0. 0. 0. 0. 0.\n",
            " 0. 0. 0. 0. 0. 0. 0. 0. 0. 0. 0. 0. 0. 0. 0. 0. 0. 0. 0. 0. 0. 0. 0. 0.\n",
            " 0. 0. 0. 0. 0. 0. 0. 0. 0. 0. 0. 0. 0. 0. 0. 0. 0.]\n"
          ]
        }
      ],
      "source": [
        "# denormalise\n",
        "# print(nbeat_model_preds)\n",
        "# x_out_test=x_in_test\n",
        "y_out_test=nbeat_model_preds\n",
        "y_out_test=y_out_test.numpy()\n",
        "y_out_tensor = torch.from_numpy(y_out_test)\n",
        "print(y_out_tensor)\n",
        "# #denormalise end\n",
        "y_out = revin_layer(y_out_tensor, 'denorm')\n",
        "# print(x_out)\n",
        "# print(x_out)\n",
        "y_out=y_out.detach()\n",
        "y_out =y_out.numpy()\n",
        "print(y_out)"
      ]
    },
    {
      "cell_type": "markdown",
      "metadata": {
        "id": "BkC0x5AUo1Mb"
      },
      "source": [
        "### visualising the Reverse normalised resultant graph\n"
      ]
    },
    {
      "cell_type": "code",
      "execution_count": 124,
      "metadata": {
        "colab": {
          "base_uri": "https://localhost:8080/",
          "height": 867
        },
        "id": "5BU508qbpfcA",
        "outputId": "b72f312e-9785-443d-c715-8b99bac55c92"
      },
      "outputs": [
        {
          "data": {
            "image/png": "[encoded data removed]",
            "text/plain": [
              "<Figure size 1000x700 with 1 Axes>"
            ]
          },
          "metadata": {},
          "output_type": "display_data"
        },
        {
          "data": {
            "image/png": "[encoded data removed]",
            "text/plain": [
              "<Figure size 1000x700 with 1 Axes>"
            ]
          },
          "metadata": {},
          "output_type": "display_data"
        }
      ],
      "source": [
        "plt.figure(figsize=(10, 7))\n",
        "plt.plot(X_testdata, y_out, label=\"prediction data\",linestyle='dashed')\n",
        "plt.plot(X_test_original, y_test_original, label=\"real data\")\n",
        "plt.plot(X_train_original, y_train_original , label=\"training data\")\n",
        "plt.xlabel(\"timestamp\")\n",
        "plt.ylabel(\"value\")\n",
        "plt.legend(fontsize=14)\n",
        "plt.savefig('img'+str(file_number)+'_full_prediction.png')\n",
        "plt.show()\n",
        "\n",
        "\n",
        "plt.figure(figsize=(10, 7))\n",
        "plt.plot(X_test_original, y_test_original, label=\"real data\",color='blue',linewidth=0.6)\n",
        "plt.plot(X_testdata, y_out, label=\"prediction data\",color='red',linestyle='dashed',linewidth=1.0)\n",
        "\n",
        "plt.plot(X_train_original[450:], y_train_original[450:] , label=\"training data\",linewidth=0.9)\n",
        "plt.xlabel(\"timestamp\")\n",
        "plt.ylabel(\"value\")\n",
        "plt.legend(fontsize=14)\n",
        "plt.savefig('img'+str(file_number)+'full_cut_prediction.png')\n",
        "plt.show()\n"
      ]
    },
    {
      "cell_type": "code",
      "execution_count": 125,
      "metadata": {
        "colab": {
          "base_uri": "https://localhost:8080/"
        },
        "id": "VL-cncpQ1i7C",
        "outputId": "3670d05f-138a-4213-a5dc-f569a73093ca"
      },
      "outputs": [
        {
          "name": "stdout",
          "output_type": "stream",
          "text": [
            "{'mae': 0.0, 'mse': 0.0, 'rmse': 0.0, 'mape': 0.0, 'mase': nan}\n"
          ]
        }
      ],
      "source": [
        "# Evaluate N-BEATS model predictions\n",
        "nbeat_model_results = evaluate_preds(y_true=y_test,\n",
        "                                 y_pred=nbeat_model_preds)\n",
        "nbeat_model_results\n",
        "print(nbeat_model_results)"
      ]
    },
    {
      "cell_type": "markdown",
      "metadata": {
        "id": "TsWRQYpyuRWe"
      },
      "source": [
        " ### Adding the values of mae ,mse ,rmse,mape,mase to the temp csv file\n",
        "\n",
        " This file is mentioned on the top to keep track of which file is being **used**"
      ]
    },
    {
      "cell_type": "code",
      "execution_count": 126,
      "metadata": {
        "colab": {
          "base_uri": "https://localhost:8080/"
        },
        "id": "uu_NU4FFukp7",
        "outputId": "8abeae5a-f171-4cd2-ed87-3f5d4d98d95b"
      },
      "outputs": [
        {
          "name": "stdout",
          "output_type": "stream",
          "text": [
            "The name of the file being evaluvated ==> 4.csv\n"
          ]
        }
      ],
      "source": [
        "print(\"The name of the file being evaluvated ==> \" +file_string+\".csv\")\n",
        "file_path=\"./content/temp.csv\"\n",
        "with open(file_path, 'a', newline='') as file:\n",
        "    writer = csv.writer(file)\n",
        "    writer.writerow([int(file_number), nbeat_model_results['mae'],nbeat_model_results['mse'],nbeat_model_results['rmse'],nbeat_model_results['mape'],nbeat_model_results['mase']])\n",
        "   \n"
      ]
    },
    {
      "cell_type": "markdown",
      "metadata": {
        "id": "TNT-2qEfLX_D"
      },
      "source": [
        "\n",
        "### Plotting the N-BEATS architecture we've created (optional)\n",
        "\n",
        "\n",
        "\n",
        "plotting our model using [`tensorflow.keras.utils.plot_model()`](https://www.tensorflow.org/api_docs/python/tf/keras/utils/plot_model).\n",
        "\n"
      ]
    },
    {
      "cell_type": "code",
      "execution_count": 127,
      "metadata": {
        "colab": {
          "base_uri": "https://localhost:8080/",
          "height": 1000
        },
        "id": "QNouVhCuI-99",
        "outputId": "3877fead-2c41-4e26-d80a-ea305166d093"
      },
      "outputs": [
        {
          "name": "stdout",
          "output_type": "stream",
          "text": [
            "You must install pydot (`pip install pydot`) and install graphviz (see instructions at https://graphviz.gitlab.io/download/) for plot_model to work.\n"
          ]
        }
      ],
      "source": [
        "# Plot the N-BEATS model and inspect the architecture\n",
        "from tensorflow.keras.utils import plot_model\n",
        "plot_model(nbeat_model)"
      ]
    }
  ],
  "metadata": {
    "accelerator": "GPU",
    "colab": {
      "collapsed_sections": [
        "QRl9Vi32WFLM",
        "aQSC8sjxYM1N",
        "4PuEm0xiMIdI",
        "5_B4LTaqBL9v",
        "TNT-2qEfLX_D",
        "9k10r8BN7ELS",
        "UW9oxH47EK-6",
        "U5VMaZ1UBpXt",
        "xWwHor7lBR3b"
      ],
      "provenance": []
    },
    "kernelspec": {
      "display_name": "Python 3.10.7 64-bit",
      "language": "python",
      "name": "python3"
    },
    "language_info": {
      "codemirror_mode": {
        "name": "ipython",
        "version": 3
      },
      "file_extension": ".py",
      "mimetype": "text/x-python",
      "name": "python",
      "nbconvert_exporter": "python",
      "pygments_lexer": "ipython3",
      "version": "3.10.7"
    },
    "vscode": {
      "interpreter": {
        "hash": "a7dbb88c84ecda04e2dfa8176cb6708abf8c95c32934f510df16d1a1f4945387"
      }
    }
  },
  "nbformat": 4,
  "nbformat_minor": 0
}
